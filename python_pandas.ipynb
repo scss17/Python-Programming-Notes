{
 "cells": [
  {
   "attachments": {},
   "cell_type": "markdown",
   "metadata": {},
   "source": [
    "# Pandas Library \n",
    "Pandas is a popular open-source Python package used for data manipulation, analysis, and cleaning. It provides easy-to-use tools to conduct various operations on data sets in the form of tabular data (i.e., rows and columns). It can handle different types of data, including numerical, categorical, and textual data.\n",
    "\n",
    "Some of Pandas' powerful features include:\n",
    "\n",
    "- Reading and writing data from different file formats, such as CSV, Excel, SQL databases, JSON, HTML, etc.\n",
    "- Handling missing values and filling them with appropriate data.\n",
    "- Selecting, filtering, and manipulating data based on different criteria.\n",
    "- Merging and joining multiple datasets together.\n",
    "- Grouping and summarizing data based on different variables.\n",
    "- Creating visualizations of data using built-in methods."
   ]
  },
  {
   "cell_type": "code",
   "execution_count": 1,
   "metadata": {},
   "outputs": [],
   "source": [
    "# Importing libraries\n",
    "import pandas as pd\n",
    "import numpy as np"
   ]
  },
  {
   "attachments": {},
   "cell_type": "markdown",
   "metadata": {},
   "source": [
    "### Pandas Series Object\n",
    "In Pandas, a Series is a one-dimensional labeled array that can hold data of any type (integer, float, string, Python objects, etc.). It provides the foundation for Pandas' more complex data structures such as DataFrame.\n",
    "\n",
    "A Series consists of two parts:\n",
    "\n",
    "- `Index`: It is a sequence of labels that helps to identify each element of the Series. The index can be customized or set to default (i.e., 0 to n-1, where n is the length of the Series).\n",
    "- `Data`: It is a collection of values that can be of any data type. The data is aligned with the index labels so that the elements are easily accessible."
   ]
  },
  {
   "cell_type": "code",
   "execution_count": 2,
   "metadata": {},
   "outputs": [
    {
     "name": "stdout",
     "output_type": "stream",
     "text": [
      "0     5\n",
      "1    10\n",
      "2    15\n",
      "3    20\n",
      "4    25\n",
      "dtype: int64\n"
     ]
    }
   ],
   "source": [
    "# To create a Series, you can use the pd.Series() constructor, which takes various parameters like data, index, dtype, etc. \n",
    "# A Pandas Series is a one-dimensional array of indexed data. It can be created from a list or array as follows\n",
    "data = [5, 10, 15, 20, 25]\n",
    "series = pd.Series(data)\n",
    "print(series)"
   ]
  },
  {
   "attachments": {},
   "cell_type": "markdown",
   "metadata": {},
   "source": [
    "The `Series` wraps both a sequence of values and a sequence of indices, which we can access with the values and index attributes. The values are simply a familiar NumPy array.\n",
    "\n",
    "- The essential difference from a NumPy array and `Series` is the presence of the index: while the NumPy array has an implicitly defined integer index used to access the values, the Pandas `Series` has an explicitly defined index associated with the values. This explicit index definition gives the `Series` object additional capabilities.\n",
    "- In this way, you can think of a Pandas `Series` a bit like a specialization of a Python `dictionary`."
   ]
  },
  {
   "cell_type": "code",
   "execution_count": 3,
   "metadata": {},
   "outputs": [
    {
     "name": "stdout",
     "output_type": "stream",
     "text": [
      "a     5\n",
      "b    10\n",
      "c    15\n",
      "d    20\n",
      "e    25\n",
      "dtype: int64\n",
      "b    10\n",
      "a     5\n",
      "dtype: int64\n",
      "California    38332521\n",
      "Texas         26448193\n",
      "New York      19651127\n",
      "Florida       19552860\n",
      "Illinois      12882135\n",
      "dtype: int64\n"
     ]
    },
    {
     "data": {
      "text/plain": [
       "California    38332521\n",
       "Texas         26448193\n",
       "New York      19651127\n",
       "dtype: int64"
      ]
     },
     "execution_count": 3,
     "metadata": {},
     "output_type": "execute_result"
    }
   ],
   "source": [
    "# For example, the index need not be an integer, but can consist of values of any desired\n",
    "# type. For example, if we wish, we can use strings as an index:\n",
    "data = pd.Series(data = [5, 10, 15, 20, 25], \n",
    "                 index = ['a', 'b', 'c', 'd', 'e'])\n",
    "print(data)\n",
    "\n",
    "# And the item access works as expected\n",
    "print(data[['b', 'a']])\n",
    "\n",
    "# We can make the Series-as-dictionary analogy even more clear by constructing a\n",
    "# Series object directly from a Python dictionary:\n",
    "population_dict = {'California': 38332521,\n",
    "                   'Texas': 26448193,\n",
    "                   'New York': 19651127,\n",
    "                   'Florida': 19552860,\n",
    "                   'Illinois': 12882135}\n",
    "population = pd.Series(population_dict)\n",
    "print(population)\n",
    "\n",
    "# Unlike a dictionary, though, the Series also supports array-style operations such as slicing:\n",
    "population['California':'New York']"
   ]
  },
  {
   "attachments": {},
   "cell_type": "markdown",
   "metadata": {},
   "source": [
    "There are different ways to create a `Series` object. \n",
    "- Data can be a list or NumPy array, in which case index defaults to an integer sequence.\n",
    "- Data can be a scalar, which is repeated to fill the specified index.\n",
    "- Data can be a dictionary, in which index defaults to the sorted dictionary keys.\n",
    "- In each case, the index can be explicitly set if a different result is preferred"
   ]
  },
  {
   "cell_type": "code",
   "execution_count": 12,
   "metadata": {},
   "outputs": [
    {
     "data": {
      "text/plain": [
       "3    c\n",
       "2    a\n",
       "dtype: object"
      ]
     },
     "execution_count": 12,
     "metadata": {},
     "output_type": "execute_result"
    }
   ],
   "source": [
    "# Creating Series object from a list\n",
    "pd.Series(data = [2, 4, 6])\n",
    "\n",
    "# Creating Series object from a scalar\n",
    "pd.Series(data = 5, index=[100, 200, 300])\n",
    "\n",
    "# Creating Series object from a dictionary\n",
    "pd.Series({2:'a', 1:'b', 3:'c'})\n",
    "\n",
    "# The index can be explicitly set if a different result is preferred:\n",
    "pd.Series({2:'a', 1:'b', 3:'c'}, index = [3, 2])"
   ]
  },
  {
   "attachments": {},
   "cell_type": "markdown",
   "metadata": {},
   "source": [
    "### DataFrame Object\n",
    "A DataFrame is a 2-dimensional labeled data structure with columns of potentially different data types. It is similar to a spreadsheet or SQL table, but with some powerful optimizations for working with data in Python. The main features of DataFrame are:\n",
    "\n",
    "- Columns can be of different data types (e.g., numbers, strings, dates, and lists).\n",
    "- Row and column labels allow for intuitive indexing.\n",
    "- Arithmetic operations can be done on rows and columns.\n",
    "- Missing data is handled gracefully.\n",
    "\n",
    "The `pandas.DataFrame()` constructor function takes several arguments, some of the important ones are:\n",
    "\n",
    "- `data`: This argument can be a variety of inputs like ndarray, series, map, lists, dict, constants, and also another DataFrame. It is required to create a DataFrame.\n",
    "- `index`: It specifies the row labels of the DataFrame. The default value is None, and in that case, the row labels will be auto-generated as simple sequential integers starting from 0.\n",
    "- `columns`: It specifies the column labels of the DataFrame. The default value is None, and in that case, the column labels will be auto-generated as simple sequential integers starting from 0."
   ]
  },
  {
   "cell_type": "code",
   "execution_count": 13,
   "metadata": {},
   "outputs": [
    {
     "name": "stdout",
     "output_type": "stream",
     "text": [
      "      name  age     city\n",
      "0    Alice   25      NYC\n",
      "1      Bob   32       LA\n",
      "2  Charlie   18  Chicago\n",
      "3    David   47   Boston\n"
     ]
    }
   ],
   "source": [
    "data = {'name': ['Alice', 'Bob', 'Charlie', 'David'],\n",
    "        'age': [25, 32, 18, 47],\n",
    "        'city':['NYC', 'LA', 'Chicago', 'Boston']}\n",
    "\n",
    "df = pd.DataFrame(data)\n",
    "print(df)"
   ]
  },
  {
   "cell_type": "code",
   "execution_count": 14,
   "metadata": {},
   "outputs": [
    {
     "name": "stdout",
     "output_type": "stream",
     "text": [
      "            population    area\n",
      "California    38332521  423967\n",
      "Texas         26448193  695662\n",
      "New York      19651127  141297\n",
      "Florida       19552860  170312\n",
      "Illinois      12882135  149995\n"
     ]
    }
   ],
   "source": [
    "# Example of creating a DataFrame from python objects\n",
    "area_dict = {'California': 423967, 'Texas': 695662, 'New York': 141297, 'Florida': 170312, 'Illinois': 149995}\n",
    "population_dict = {'California': 38332521, 'Texas': 26448193, 'New York': 19651127, 'Florida': 19552860, 'Illinois': 12882135}\n",
    "\n",
    "# Create Pandas series objects from the area and population dictionaries\n",
    "population = pd.Series(population_dict)\n",
    "area = pd.Series(area_dict)\n",
    "\n",
    "# Create a Pandas DataFrame named states with columns for population and area\n",
    "states = pd.DataFrame({'population': population, 'area': area})\n",
    "\n",
    "# Print the resulting states DataFrame\n",
    "print(states)"
   ]
  },
  {
   "attachments": {},
   "cell_type": "markdown",
   "metadata": {},
   "source": [
    "Similarly, we can also think of a DataFrame as a specialization of a dictionary. Where a dictionary maps a key to a value, a DataFrame maps a column name to a Series of column data. A Pandas DataFrame can be constructed in a variety of ways. Here we’ll give several examples.\n",
    "- From a single `Series` object. A DataFrame is a collection of `Series` objects, and a singlecolumn DataFrame can be constructed from a single `Series`.\n",
    "- From a list of dicts. Any list of dictionaries can be made into a DataFrame. We’ll use a simple list comprehension to create some data.\n",
    "- From a dictionary of `Series` objects. As we saw before, a DataFrame can be constructed from a dictionary of Series objects as well.\n",
    "- From a two-dimensional NumPy array. Given a two-dimensional array of data, we can create a DataFrame with any specified column and index names."
   ]
  },
  {
   "cell_type": "code",
   "execution_count": 4,
   "metadata": {},
   "outputs": [
    {
     "data": {
      "text/html": [
       "<div>\n",
       "<style scoped>\n",
       "    .dataframe tbody tr th:only-of-type {\n",
       "        vertical-align: middle;\n",
       "    }\n",
       "\n",
       "    .dataframe tbody tr th {\n",
       "        vertical-align: top;\n",
       "    }\n",
       "\n",
       "    .dataframe thead th {\n",
       "        text-align: right;\n",
       "    }\n",
       "</style>\n",
       "<table border=\"1\" class=\"dataframe\">\n",
       "  <thead>\n",
       "    <tr style=\"text-align: right;\">\n",
       "      <th></th>\n",
       "      <th>foo</th>\n",
       "      <th>bar</th>\n",
       "    </tr>\n",
       "  </thead>\n",
       "  <tbody>\n",
       "    <tr>\n",
       "      <th>a</th>\n",
       "      <td>0.181832</td>\n",
       "      <td>0.613387</td>\n",
       "    </tr>\n",
       "    <tr>\n",
       "      <th>b</th>\n",
       "      <td>0.765804</td>\n",
       "      <td>0.939247</td>\n",
       "    </tr>\n",
       "    <tr>\n",
       "      <th>c</th>\n",
       "      <td>0.648590</td>\n",
       "      <td>0.062196</td>\n",
       "    </tr>\n",
       "  </tbody>\n",
       "</table>\n",
       "</div>"
      ],
      "text/plain": [
       "        foo       bar\n",
       "a  0.181832  0.613387\n",
       "b  0.765804  0.939247\n",
       "c  0.648590  0.062196"
      ]
     },
     "execution_count": 4,
     "metadata": {},
     "output_type": "execute_result"
    }
   ],
   "source": [
    "# Creating a dataframe from a single Series object\n",
    "pd.DataFrame(population, columns = ['population'])\n",
    "\n",
    "# Creating a dataframe from a list of dicts\n",
    "data = [{'a': i, 'b': 2 * i} for i in range(3)]\n",
    "pd.DataFrame(data)\n",
    "\n",
    "# Creating a dataframe from a dictionary of Series objetcs\n",
    "area_dict = {'California': 423967, 'Texas': 695662, 'New York': 141297, 'Florida': 170312, 'Illinois': 149995}\n",
    "population_dict = {'California': 38332521, 'Texas': 26448193, 'New York': 19651127, 'Florida': 19552860, 'Illinois': 12882135}\n",
    "population = pd.Series(population_dict)\n",
    "area = pd.Series(area_dict)\n",
    "pd.DataFrame({'population': population, 'area': area})\n",
    "\n",
    "# Creating a dataframe from a two-dimentional NumPy Array \n",
    "pd.DataFrame(np.random.rand(3, 2),\n",
    "             columns = ['foo', 'bar'],\n",
    "             index = ['a', 'b', 'c'])"
   ]
  },
  {
   "attachments": {},
   "cell_type": "markdown",
   "metadata": {},
   "source": [
    "### The Pandas Index Object\n",
    "We have seen here that both the Series and DataFrame objects contain an explicit index that lets you reference and modify data. This Index object is an interesting structure in itself, and it can be thought of either as an immutable array or as an ordered set.\n",
    "- The Index object in many ways operates like an array.\n",
    "- Index objects also have many of the attributes familiar from NumPy arrays\n",
    "- Pandas objects are designed to facilitate operations such as joins across datasets, which depend on many aspects of set arithmetic. The Index object follows many of the conventions used by Python’s built-in set data structure"
   ]
  },
  {
   "cell_type": "code",
   "execution_count": 5,
   "metadata": {},
   "outputs": [
    {
     "data": {
      "text/plain": [
       "Int64Index([2, 5, 11], dtype='int64')"
      ]
     },
     "execution_count": 5,
     "metadata": {},
     "output_type": "execute_result"
    }
   ],
   "source": [
    "# For example, we can use standard Python indexing notation to retrieve values or slices:\n",
    "ind = pd.Index([2, 3, 5, 7, 11])\n",
    "print(ind[::2])\n",
    "\n",
    "# Index objects also have many of the attributes familiar from NumPy arrays\n",
    "print(ind.size, ind.shape, ind.ndim, ind.dtype)\n",
    "\n",
    "# Unions, intersections, differences, and other combinations can be computed in a familiar way\n",
    "indA = pd.Index([1, 3, 5, 7, 9])\n",
    "indB = pd.Index([2, 3, 5, 7, 11])\n",
    "indA & indB # intersection\n",
    "indA | indB # union\n",
    "indA ^ indB # symmetric difference"
   ]
  },
  {
   "attachments": {},
   "cell_type": "markdown",
   "metadata": {},
   "source": [
    "### Data Indexing and Selection \n",
    "\n",
    "#### Data Selection in Series \n",
    "A Series object acts in many ways like a onedimensional NumPy array, and in many ways like a standard Python dictionary. If we keep these two overlapping analogies in mind, it will help us to understand the patterns of data indexing and selection in these arrays.\n",
    "- Like a dictionary, the Series object provides a mapping from a collection of keys to a collection of values.\n",
    "- We can also use dictionary-like Python expressions and methods to examine the keys/indices and values\n",
    "- Series objects can even be modified with a dictionary-like syntax."
   ]
  },
  {
   "cell_type": "code",
   "execution_count": 13,
   "metadata": {},
   "outputs": [
    {
     "name": "stdout",
     "output_type": "stream",
     "text": [
      "a    0.25\n",
      "b    0.50\n",
      "c    0.75\n",
      "d    1.00\n",
      "dtype: float64\n",
      "True\n",
      "Index(['a', 'b', 'c', 'd'], dtype='object')\n",
      "[('a', 0.25), ('b', 0.5), ('c', 0.75), ('d', 1.0)]\n",
      "a    0.25\n",
      "b    0.50\n",
      "c    0.75\n",
      "d    1.00\n",
      "e    1.25\n",
      "dtype: float64\n"
     ]
    }
   ],
   "source": [
    "# Creating Series object\n",
    "data = pd.Series([0.25, 0.5, 0.75, 1.0], index=['a', 'b', 'c', 'd'])\n",
    "print(data)\n",
    "\n",
    "# Use dictionary-like Python expressions\n",
    "print('a' in data)\n",
    "print(data.keys()) \n",
    "print(list(data.items())) # Prints out a list of the items \n",
    "\n",
    "# Just as you can extend a dictionary by assigning to a new key, you can extend a Series by assigning to a new index value\n",
    "data['e'] = 1.25\n",
    "print(data)"
   ]
  },
  {
   "cell_type": "markdown",
   "metadata": {},
   "source": [
    "- A Series builds on this dictionary-like interface and provides array-style item selection via the same basic mechanisms as NumPy arrays—that is, slices, masking, and fancy indexing."
   ]
  },
  {
   "cell_type": "code",
   "execution_count": 14,
   "metadata": {},
   "outputs": [
    {
     "name": "stdout",
     "output_type": "stream",
     "text": [
      "a    0.25\n",
      "b    0.50\n",
      "c    0.75\n",
      "d    1.00\n",
      "dtype: float64\n"
     ]
    },
    {
     "data": {
      "text/plain": [
       "b    0.50\n",
       "c    0.75\n",
       "dtype: float64"
      ]
     },
     "execution_count": 14,
     "metadata": {},
     "output_type": "execute_result"
    }
   ],
   "source": [
    "# Creating Series object\n",
    "data = pd.Series([0.25, 0.5, 0.75, 1.0], index=['a', 'b', 'c', 'd'])\n",
    "print(data)\n",
    "\n",
    "# slicing by explicit index\n",
    "data['a':'c']\n",
    "\n",
    "# slicing by implicit integer index\n",
    "data[0:2]\n",
    "\n",
    "# masking\n",
    "data[(data > 0.3) & (data < 0.8)]\n",
    "\n",
    "# fancy indexing\n",
    "data[['a', 'e']]"
   ]
  },
  {
   "attachments": {},
   "cell_type": "markdown",
   "metadata": {},
   "source": [
    "- Pandas provides some special indexer attributes that explicitly expose certain indexing schemes. These are not functional methods, but attributes that expose a particular slicing interface to the data in the Series.\n",
    "    - First, the `loc` attribute allows indexing and slicing that always references the explicit\n",
    "index.\n",
    "    - The `iloc` attribute allows indexing and slicing that always references the implicit\n",
    "Python-style index"
   ]
  },
  {
   "cell_type": "code",
   "execution_count": null,
   "metadata": {},
   "outputs": [],
   "source": [
    "# Consider the following Series object\n",
    "s = pd.Series([10, 20, 30, 40], index=[\"a\", \"b\", \"c\", \"d\"])\n",
    "\n",
    "# To select the element with index label \"b\"\n",
    "s.loc[\"b\"]\n",
    "\n",
    "# To select the element at the second position:\n",
    "s.iloc[1]\n"
   ]
  }
 ],
 "metadata": {
  "kernelspec": {
   "display_name": "base",
   "language": "python",
   "name": "python3"
  },
  "language_info": {
   "codemirror_mode": {
    "name": "ipython",
    "version": 3
   },
   "file_extension": ".py",
   "mimetype": "text/x-python",
   "name": "python",
   "nbconvert_exporter": "python",
   "pygments_lexer": "ipython3",
   "version": "3.10.9"
  },
  "orig_nbformat": 4
 },
 "nbformat": 4,
 "nbformat_minor": 2
}
