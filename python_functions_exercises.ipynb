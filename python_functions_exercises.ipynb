{
 "cells": [
  {
   "attachments": {},
   "cell_type": "markdown",
   "metadata": {},
   "source": [
    "# Function Practice Exercises\n",
    "\n",
    "Problems are arranged in increasing difficulty:\n",
    "* Warmup - these can be solved using basic comparisons and methods\n",
    "* Level 1 - these may involve if/then conditional statements and simple methods\n",
    "* Level 2 - these may require iterating over sequences, usually with some kind of loop\n",
    "* Challenging - these will take some creativity to solve\n",
    "\n",
    "### Warmup\n",
    "1. **LESSER OF TWO EVENS**: Write a function that returns the lesser of two given numbers *if* both numbers are even, but returns the greater if one or both numbers are odd. "
   ]
  },
  {
   "cell_type": "code",
   "execution_count": 15,
   "metadata": {},
   "outputs": [],
   "source": [
    "def lesser_of_two_evens(a, b):\n",
    "    \n",
    "    \"\"\"\n",
    "    This function  takes two arguments a and b. The purpose of the function is to compare the values of \n",
    "    these two arguments and return the lesser one if both are even numbers, otherwise it should return the greater one.\n",
    "    \"\"\"\n",
    "    \n",
    "    # # Check if both a and b are even numbers\n",
    "    if a % 2 == 0 and b % 2 == 0:\n",
    "        return min(a, b)\n",
    "\n",
    "    # # Otherwise, return the larger number using the max() function\n",
    "    else:\n",
    "        return max(a, b)"
   ]
  },
  {
   "cell_type": "code",
   "execution_count": 16,
   "metadata": {},
   "outputs": [
    {
     "data": {
      "text/plain": [
       "2"
      ]
     },
     "execution_count": 16,
     "metadata": {},
     "output_type": "execute_result"
    }
   ],
   "source": [
    "# Check lesser_of_two_evens(2, 4) Output: 2\n",
    "lesser_of_two_evens(2, 4)"
   ]
  },
  {
   "cell_type": "code",
   "execution_count": 17,
   "metadata": {},
   "outputs": [
    {
     "data": {
      "text/plain": [
       "5"
      ]
     },
     "execution_count": 17,
     "metadata": {},
     "output_type": "execute_result"
    }
   ],
   "source": [
    "# Check lesser_of_two_evens(2, 5) Output: 5\n",
    "lesser_of_two_evens(2, 5)"
   ]
  },
  {
   "attachments": {},
   "cell_type": "markdown",
   "metadata": {},
   "source": [
    "2. **ANIMAL CRACKERS**: Write a function takes a two-word string and returns True if both words begin with same letter."
   ]
  },
  {
   "cell_type": "code",
   "execution_count": 30,
   "metadata": {},
   "outputs": [],
   "source": [
    "def animal_crackers(animal_string):\n",
    "\n",
    "    \"\"\"\n",
    "    This function checks whether the first letter of the first word provided and the first letter of the \n",
    "    second word provided are the same or not. It returns a boolean value which is true if they are the same and false otherwise.\n",
    "    \"\"\"\n",
    "    \n",
    "    # Split the `animal_string` into words using `split()` method, and store it in `words` variable as a list of words\n",
    "    words = animal_string.split()\n",
    "\n",
    "    # Check if the first letter of the first word and the first letter of the second word are the same or not, \n",
    "    # Return a boolean value based on the comparison result: True if they are the same, False otherwise.\n",
    "    return words[0][0].upper() == words[1][0].upper()\n"
   ]
  },
  {
   "cell_type": "code",
   "execution_count": 31,
   "metadata": {},
   "outputs": [
    {
     "data": {
      "text/plain": [
       "False"
      ]
     },
     "execution_count": 31,
     "metadata": {},
     "output_type": "execute_result"
    }
   ],
   "source": [
    "# Check animal_crackers('Crazy Kangaroo') Output: False\n",
    "animal_crackers('Crazy Kangaroo')"
   ]
  },
  {
   "cell_type": "code",
   "execution_count": 32,
   "metadata": {},
   "outputs": [
    {
     "data": {
      "text/plain": [
       "True"
      ]
     },
     "execution_count": 32,
     "metadata": {},
     "output_type": "execute_result"
    }
   ],
   "source": [
    "# Check animal_crackers('Levelheaded Llama') Output: True\n",
    "animal_crackers('Levelheaded Llama')"
   ]
  },
  {
   "attachments": {},
   "cell_type": "markdown",
   "metadata": {},
   "source": [
    "3. **MAKES TWENTY**: Given two integers, return True if the sum of the integers is 20 *or* if one of the integers is 20. If not, return False"
   ]
  },
  {
   "cell_type": "code",
   "execution_count": 34,
   "metadata": {},
   "outputs": [],
   "source": [
    "def makes_twenty(a, b):\n",
    "    \n",
    "    \"\"\"\n",
    "    This function basically returns True if the sum of the two numbers is 20 or if one \n",
    "    of the numbers is 20, otherwise it returns False.\n",
    "    \"\"\"\n",
    "    \n",
    "    if a + b == 20 or (a == 20 or b == 20):\n",
    "        return True\n",
    "    else: \n",
    "        return False"
   ]
  },
  {
   "cell_type": "code",
   "execution_count": 35,
   "metadata": {},
   "outputs": [
    {
     "data": {
      "text/plain": [
       "True"
      ]
     },
     "execution_count": 35,
     "metadata": {},
     "output_type": "execute_result"
    }
   ],
   "source": [
    "# Check makes_twenty(20, 10) Output: True\n",
    "makes_twenty(20, 10)"
   ]
  },
  {
   "cell_type": "code",
   "execution_count": 36,
   "metadata": {},
   "outputs": [
    {
     "data": {
      "text/plain": [
       "True"
      ]
     },
     "execution_count": 36,
     "metadata": {},
     "output_type": "execute_result"
    }
   ],
   "source": [
    "# Check makes_twenty(12, 8) Output: True    \n",
    "makes_twenty(12, 8)"
   ]
  },
  {
   "cell_type": "code",
   "execution_count": 37,
   "metadata": {},
   "outputs": [
    {
     "data": {
      "text/plain": [
       "False"
      ]
     },
     "execution_count": 37,
     "metadata": {},
     "output_type": "execute_result"
    }
   ],
   "source": [
    "# Check makes_twenty(2, 3) Output: False\n",
    "makes_twenty(2, 3)"
   ]
  },
  {
   "attachments": {},
   "cell_type": "markdown",
   "metadata": {},
   "source": [
    "### Level 1 Problems\n",
    "1. **OLD MACDONALD**: Write a function that capitalizes the first and fourth letters of a name\n"
   ]
  },
  {
   "cell_type": "code",
   "execution_count": 52,
   "metadata": {},
   "outputs": [],
   "source": [
    "def old_macdonald(name):\n",
    "\n",
    "    \"\"\"\n",
    "    This function capitalizes the first and fourth letter of the string.\n",
    "    \"\"\"\n",
    "\n",
    "    if len(name) >= 3:\n",
    "        first_part = name[0:3].capitalize()\n",
    "        second_part = name[3:].capitalize()\n",
    "        return f\"{first_part}{second_part}\"\n",
    "    else:\n",
    "        print(\"Name is too short\")"
   ]
  },
  {
   "cell_type": "code",
   "execution_count": 53,
   "metadata": {},
   "outputs": [
    {
     "data": {
      "text/plain": [
       "'MacDonald'"
      ]
     },
     "execution_count": 53,
     "metadata": {},
     "output_type": "execute_result"
    }
   ],
   "source": [
    "# Check old_macdonald('macdonald') Output MacDonald\n",
    "old_macdonald('macdonald')"
   ]
  },
  {
   "attachments": {},
   "cell_type": "markdown",
   "metadata": {},
   "source": [
    "2. **MASTER YODA**: Given a sentence, return a sentence with the words reversed.\n",
    "    \n",
    "    **Hint** In Python, the join() method is used to join a sequence or list of strings with a given delimiter, which can be an empty string or any other character/string. The syntax for the join() method is as follows:\n",
    "\n",
    "        delimiter.join(iterable)\n",
    "\n",
    "    - Here, the `delimiter` parameter specifies the string that will be used as a separator or delimiter between each item of the iterable.\n",
    "    - The `iterable` parameter specifies the list or sequence of strings that you want to join together.\n",
    "    - The `join()` method returns a new string that is created by concatenating all the items in the iterable separated by the specified delimiter.\n"
   ]
  },
  {
   "cell_type": "code",
   "execution_count": 67,
   "metadata": {},
   "outputs": [],
   "source": [
    "def master_yoda(sentence):\n",
    "\n",
    "    \"\"\"\n",
    "    This function takes in a sentence as a string and returns a new string where the words are \n",
    "    in reversed order compared to the original sentence.\n",
    "    \"\"\"\n",
    "    \n",
    "    # Split the input string into a list of individual words\n",
    "    word_list = sentence.split()\n",
    "\n",
    "    # Reverse the order of the words in the list using slicing\n",
    "    word_list_reversed = word_list[::-1]\n",
    "\n",
    "    # Join the words together into a new string with spaces in between and return it\n",
    "    return \" \".join(word_list_reversed)"
   ]
  },
  {
   "cell_type": "code",
   "execution_count": 69,
   "metadata": {},
   "outputs": [
    {
     "data": {
      "text/plain": [
       "'home am I'"
      ]
     },
     "execution_count": 69,
     "metadata": {},
     "output_type": "execute_result"
    }
   ],
   "source": [
    "# Check master_yoda('I am home') Output: 'home am I'\n",
    "master_yoda('I am home')"
   ]
  },
  {
   "cell_type": "code",
   "execution_count": 70,
   "metadata": {},
   "outputs": [
    {
     "data": {
      "text/plain": [
       "'ready are We'"
      ]
     },
     "execution_count": 70,
     "metadata": {},
     "output_type": "execute_result"
    }
   ],
   "source": [
    "# Check master_yoda('We are ready') Output: 'ready are We'\n",
    "master_yoda('We are ready')"
   ]
  },
  {
   "attachments": {},
   "cell_type": "markdown",
   "metadata": {},
   "source": [
    "3. `ALMOST THERE`: Given an integer n, return True if n is within 10 of either 100 or 200\n",
    "\n",
    "    **Hint**: `abs(num)` returns the absolute value of a number"
   ]
  },
  {
   "cell_type": "code",
   "execution_count": 74,
   "metadata": {},
   "outputs": [],
   "source": [
    "def almost_there(n):\n",
    "\n",
    "    if type(n) == int:\n",
    "        return (abs(100 - n) <= 10) or(abs(200 - n) <= 10)\n",
    "    else:\n",
    "        print(\"The argument is not an integer. It actually is {arg}\".format(arg = type(n)))\n"
   ]
  },
  {
   "cell_type": "code",
   "execution_count": 75,
   "metadata": {},
   "outputs": [
    {
     "data": {
      "text/plain": [
       "True"
      ]
     },
     "execution_count": 75,
     "metadata": {},
     "output_type": "execute_result"
    }
   ],
   "source": [
    "# Check almost_there(90) Output: True\n",
    "almost_there(90)"
   ]
  },
  {
   "cell_type": "code",
   "execution_count": 79,
   "metadata": {},
   "outputs": [
    {
     "data": {
      "text/plain": [
       "True"
      ]
     },
     "execution_count": 79,
     "metadata": {},
     "output_type": "execute_result"
    }
   ],
   "source": [
    "# Check almost_there(104) Output: True\n",
    "almost_there(104)"
   ]
  },
  {
   "cell_type": "code",
   "execution_count": 80,
   "metadata": {},
   "outputs": [
    {
     "data": {
      "text/plain": [
       "False"
      ]
     },
     "execution_count": 80,
     "metadata": {},
     "output_type": "execute_result"
    }
   ],
   "source": [
    "# Check almost_there(150) Output: False\n",
    "almost_there(150)"
   ]
  },
  {
   "cell_type": "code",
   "execution_count": 81,
   "metadata": {},
   "outputs": [
    {
     "data": {
      "text/plain": [
       "True"
      ]
     },
     "execution_count": 81,
     "metadata": {},
     "output_type": "execute_result"
    }
   ],
   "source": [
    "# Chec almost_there(209) Output: True\n",
    "almost_there(209)"
   ]
  },
  {
   "attachments": {},
   "cell_type": "markdown",
   "metadata": {},
   "source": [
    "### Level 2 Problems\n",
    "1. Given a list of ints, return True if the array contains a 3 next to a 3 somewhere."
   ]
  },
  {
   "cell_type": "code",
   "execution_count": 93,
   "metadata": {},
   "outputs": [],
   "source": [
    "def has_33(int_list):\n",
    "    \n",
    "    \"\"\"\n",
    "    This function can be used to check whether a list of integers contains a specific pattern, \n",
    "    in this case, the pattern of two adjacent 3s.\n",
    "    \"\"\"\n",
    "    \n",
    "    # Loop through each integer in the list starting from the second one\n",
    "    for i in range(1, len(int_list)):\n",
    "        \n",
    "        # If the current and previous integers are both 3, return True\n",
    "        if int_list[i] == int_list[i-1]:\n",
    "            return True \n",
    "        \n",
    "    # If no adjacent pairs of 3 were found, return False\n",
    "    return False"
   ]
  },
  {
   "cell_type": "code",
   "execution_count": 94,
   "metadata": {},
   "outputs": [
    {
     "data": {
      "text/plain": [
       "True"
      ]
     },
     "execution_count": 94,
     "metadata": {},
     "output_type": "execute_result"
    }
   ],
   "source": [
    "# Check has_33([1, 3, 3]) Output: True\n",
    "has_33([1, 3, 3])"
   ]
  },
  {
   "cell_type": "code",
   "execution_count": 88,
   "metadata": {},
   "outputs": [
    {
     "data": {
      "text/plain": [
       "False"
      ]
     },
     "execution_count": 88,
     "metadata": {},
     "output_type": "execute_result"
    }
   ],
   "source": [
    "# Check has_33([1, 3, 1, 3]) Output: False\n",
    "has_33([1, 3, 1, 3])"
   ]
  },
  {
   "cell_type": "code",
   "execution_count": 89,
   "metadata": {},
   "outputs": [
    {
     "data": {
      "text/plain": [
       "False"
      ]
     },
     "execution_count": 89,
     "metadata": {},
     "output_type": "execute_result"
    }
   ],
   "source": [
    "# Check has_33([3, 1, 3]) OUtput False\n",
    "has_33([3, 1, 3])"
   ]
  },
  {
   "attachments": {},
   "cell_type": "markdown",
   "metadata": {},
   "source": [
    "2. **PAPER DOLL**: Given a string, return a string where for every character in the original there are three characters\n",
    "    "
   ]
  },
  {
   "cell_type": "code",
   "execution_count": 105,
   "metadata": {},
   "outputs": [],
   "source": [
    "def paper_doll(text):\n",
    "\n",
    "    \"\"\"\n",
    "    This function takes a string and create a new string where each character is repeated three times. \n",
    "    \"\"\"\n",
    "    \n",
    "    # Convert the input string into a list of individual characters\n",
    "    str_list = list(text)\n",
    "\n",
    "    # For each character in the list, repeat it three times and join all the repeated characters together\n",
    "    return \"\".join([letter * 3 for letter in str_list])"
   ]
  },
  {
   "cell_type": "code",
   "execution_count": 106,
   "metadata": {},
   "outputs": [
    {
     "data": {
      "text/plain": [
       "'HHHeeellllllooo'"
      ]
     },
     "execution_count": 106,
     "metadata": {},
     "output_type": "execute_result"
    }
   ],
   "source": [
    "# Check paper_doll('Hello') Output: 'HHHeeellllllooo'\n",
    "paper_doll(\"Hello\")"
   ]
  },
  {
   "cell_type": "code",
   "execution_count": 107,
   "metadata": {},
   "outputs": [
    {
     "data": {
      "text/plain": [
       "'MMMiiissssssiiissssssiiippppppiii'"
      ]
     },
     "execution_count": 107,
     "metadata": {},
     "output_type": "execute_result"
    }
   ],
   "source": [
    "# Check paper_doll('Mississippi') Output: 'MMMiiissssssiiippppppiii'\n",
    "paper_doll('Mississippi')"
   ]
  },
  {
   "attachments": {},
   "cell_type": "markdown",
   "metadata": {},
   "source": [
    "3. **BLACKJACK**: Given three integers between 1 and 11, if their sum is less than or equal to 21, return their sum. If their sum exceeds 21 *and* there's an eleven, reduce the total sum by 10. Finally, if the sum (even after adjustment) exceeds 21, return 'BUST'\n",
    "    "
   ]
  },
  {
   "cell_type": "code",
   "execution_count": 120,
   "metadata": {},
   "outputs": [],
   "source": [
    "def blackjack(n1, n2, n3):\n",
    "\n",
    "    \"\"\"\n",
    "    This function simulates one round of Blackjack and determines the value of a given hand based on the values \n",
    "    of the three cards provided as input.\n",
    "    \"\"\"\n",
    "    # Calculate the sum of the three input numbers\n",
    "    total = sum((n1, n2, n3))\n",
    "    \n",
    "    # If the sum is 21 or less, return the sum\n",
    "    if total <= 21:\n",
    "        return total\n",
    "    \n",
    "    # If the sum is between 22 and 31 and there is an 11 among the input numbers,\n",
    "    # subtract 10 from the sum and return the result\n",
    "    elif total <= 31 and (11 in (n1, n2, n3)):\n",
    "        return total - 10\n",
    "    \n",
    "    # Otherwise, the sum must be greater than 21, so return \"BUST\"\n",
    "    else:\n",
    "        return 'BUST'"
   ]
  },
  {
   "cell_type": "code",
   "execution_count": 121,
   "metadata": {},
   "outputs": [
    {
     "data": {
      "text/plain": [
       "18"
      ]
     },
     "execution_count": 121,
     "metadata": {},
     "output_type": "execute_result"
    }
   ],
   "source": [
    "# Check blackjack(5,6,7) Output: 18\n",
    "blackjack(5,6,7)"
   ]
  },
  {
   "cell_type": "code",
   "execution_count": 122,
   "metadata": {},
   "outputs": [
    {
     "data": {
      "text/plain": [
       "'BUST'"
      ]
     },
     "execution_count": 122,
     "metadata": {},
     "output_type": "execute_result"
    }
   ],
   "source": [
    "# Check blackjack(9,9,9) Output: 'BUST'\n",
    "blackjack(9,9,9)"
   ]
  },
  {
   "cell_type": "code",
   "execution_count": 123,
   "metadata": {},
   "outputs": [
    {
     "data": {
      "text/plain": [
       "19"
      ]
     },
     "execution_count": 123,
     "metadata": {},
     "output_type": "execute_result"
    }
   ],
   "source": [
    "# Check blackjack(9,9,11) Output: 19\n",
    "blackjack(9,9,11)"
   ]
  },
  {
   "attachments": {},
   "cell_type": "markdown",
   "metadata": {},
   "source": [
    " **SUMMER OF '69**: Return the sum of the numbers in the array, except ignore sections of numbers starting with a 6 and extending to the next 9 (every 6 will be followed by at least one 9). Return 0 for no numbers."
   ]
  },
  {
   "cell_type": "code",
   "execution_count": 124,
   "metadata": {},
   "outputs": [],
   "source": [
    "def summer_69(arr):\n",
    "    total = 0\n",
    "    add = True\n",
    "    for num in arr:\n",
    "        while add:\n",
    "            if num != 6:\n",
    "                total += num\n",
    "                break\n",
    "            else:\n",
    "                add = False\n",
    "        while not add:\n",
    "            if num != 9:\n",
    "                break\n",
    "            else:\n",
    "                add = True\n",
    "                break\n",
    "    return total\n"
   ]
  },
  {
   "cell_type": "code",
   "execution_count": 125,
   "metadata": {},
   "outputs": [
    {
     "data": {
      "text/plain": [
       "9"
      ]
     },
     "execution_count": 125,
     "metadata": {},
     "output_type": "execute_result"
    }
   ],
   "source": [
    "# Check summer_69([1, 3, 5]) Output:  9\n",
    "summer_69([1, 3, 5])"
   ]
  },
  {
   "cell_type": "code",
   "execution_count": 126,
   "metadata": {},
   "outputs": [
    {
     "data": {
      "text/plain": [
       "14"
      ]
     },
     "execution_count": 126,
     "metadata": {},
     "output_type": "execute_result"
    }
   ],
   "source": [
    "# Check summer_69([2, 1, 6, 9, 11]) Output:  14\n",
    "summer_69([2, 1, 6, 9, 11])"
   ]
  },
  {
   "cell_type": "code",
   "execution_count": 127,
   "metadata": {},
   "outputs": [
    {
     "data": {
      "text/plain": [
       "9"
      ]
     },
     "execution_count": 127,
     "metadata": {},
     "output_type": "execute_result"
    }
   ],
   "source": [
    "# Check summer_69([4, 5, 6, 7, 8, 9]) Output: 9\n",
    "summer_69([4, 5, 6, 7, 8, 9])"
   ]
  },
  {
   "attachments": {},
   "cell_type": "markdown",
   "metadata": {},
   "source": [
    "### Challenging Problems\n",
    "\n",
    "1. **SPY GAME**: Write a function that takes in a list of integers and returns True if it contains 007 in order\n",
    "\n",
    "     "
   ]
  },
  {
   "cell_type": "code",
   "execution_count": 159,
   "metadata": {},
   "outputs": [],
   "source": [
    "def spy_game(int_list):\n",
    "\n",
    "    \"\"\"\n",
    "    The spy_game() function accepts a list of integers as an argument int_list, and it returns True if int_list \n",
    "    contains the digits 0, 0, 7 in that order, with any number of other digits between them. Otherwise, it returns False.\n",
    "    \"\"\"\n",
    "\n",
    "    # This creates a reference list 'code' that contains the pattern to be searched for, which is [0,0,7]. The last element of this list \"x\" is used as a placeholder and will be popped out during the search.\n",
    "    code = [0,0,7,'x']\n",
    "    \n",
    "    # If the length of int_list is at least 3, the function searches for the pattern in the list using a loop.\n",
    "    if len(int_list) >= 3:\n",
    "        \n",
    "        # This loops through each element of int_list. For each element, if it matches the first value of code, that value is removed from code. This continues until all occurrences of 0,0,7 have been found in int_list or the loop through int_list is complete.\n",
    "        for num in int_list:\n",
    "            if num == code[0]:\n",
    "                code.pop(0)\n",
    "        \n",
    "        # Finally, the function checks whether code has only one element remaining (which should be the \"x\" placeholder). If code has only one element left, then the digits 0, 0, and 7 were found in the correct order in int_list, so the function returns True. If code has more than one element left or there were not enough elements in int_list, the function returns False.\n",
    "        return len(code) == 1\n",
    "\n",
    "    else:\n",
    "        # If int_list has fewer than 3 elements, the function prints an error message to the console and returns None.\n",
    "        print(\"The length of the list is too small, the list has {list_len} elements\".format(list_len = len(int_list)))\n"
   ]
  },
  {
   "cell_type": "code",
   "execution_count": 160,
   "metadata": {},
   "outputs": [
    {
     "name": "stdout",
     "output_type": "stream",
     "text": [
      "The length of the list is too small, the list has 2 elements\n"
     ]
    }
   ],
   "source": [
    "# Check spy_game([1,2]) Output: \"The length of...\"\n",
    "spy_game([1,2])"
   ]
  },
  {
   "cell_type": "code",
   "execution_count": 161,
   "metadata": {},
   "outputs": [
    {
     "data": {
      "text/plain": [
       "True"
      ]
     },
     "execution_count": 161,
     "metadata": {},
     "output_type": "execute_result"
    }
   ],
   "source": [
    "# Check spy_game([1,2,4,0,0,7,5]) Ourput: True\n",
    "spy_game([1,2,4,0,0,7,5])\n",
    "     "
   ]
  },
  {
   "cell_type": "code",
   "execution_count": 162,
   "metadata": {},
   "outputs": [
    {
     "data": {
      "text/plain": [
       "True"
      ]
     },
     "execution_count": 162,
     "metadata": {},
     "output_type": "execute_result"
    }
   ],
   "source": [
    "# Check spy_game([1,0,2,4,0,5,7]) Output: True\n",
    "spy_game([1,0,2,4,0,5,7])\n",
    "     "
   ]
  },
  {
   "cell_type": "code",
   "execution_count": 163,
   "metadata": {},
   "outputs": [
    {
     "data": {
      "text/plain": [
       "False"
      ]
     },
     "execution_count": 163,
     "metadata": {},
     "output_type": "execute_result"
    }
   ],
   "source": [
    "# Chec spy_game([1,7,2,0,4,5,0]) Output: False\n",
    "spy_game([1,7,2,0,4,5,0])\n"
   ]
  }
 ],
 "metadata": {
  "kernelspec": {
   "display_name": "Python 3",
   "language": "python",
   "name": "python3"
  },
  "language_info": {
   "codemirror_mode": {
    "name": "ipython",
    "version": 3
   },
   "file_extension": ".py",
   "mimetype": "text/x-python",
   "name": "python",
   "nbconvert_exporter": "python",
   "pygments_lexer": "ipython3",
   "version": "3.11.1"
  },
  "orig_nbformat": 4
 },
 "nbformat": 4,
 "nbformat_minor": 2
}
