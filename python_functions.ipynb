{
 "cells": [
  {
   "attachments": {},
   "cell_type": "markdown",
   "metadata": {},
   "source": [
    "### Functions and Methods\n",
    "Functions and methods are two important concepts in programming, so it's understandable that they might seem confusing at first. Here's a brief explanation:\n",
    "- A `function` is a block of code that performs a specific task. In Python, you define a function using the def keyword followed by the function name, input parameters (if any), and the code to be executed when the function is called. Functions can be called from anywhere in your program as long as they are in scope.\n",
    "- A `method` is a function that is associated with an object. In other words, a method is a function that \"belongs\" to a specific object and can only be called on that object. For example, if you have a string object in Python, you can use the `.upper()` method to convert all the characters in the string to uppercase. This method only works on strings because it is specific to the string data type.\n",
    "\n",
    "The main difference between functions and methods is that functions are standalone pieces of code that can be called from anywhere in your program, while methods are associated with specific objects and can only be called on those objects."
   ]
  },
  {
   "cell_type": "code",
   "execution_count": 1,
   "metadata": {},
   "outputs": [
    {
     "name": "stdout",
     "output_type": "stream",
     "text": [
      "15\n",
      "HELLO WORLD\n"
     ]
    }
   ],
   "source": [
    "# Here's an example to help illustrate the difference:\n",
    "# Example of a function\n",
    "def add_numbers(x, y):\n",
    "    result = x + y\n",
    "    return result\n",
    "\n",
    "# Calling the function\n",
    "sum = add_numbers(5, 10)\n",
    "print(sum)   # Output: 15\n",
    "\n",
    "# Example of a method\n",
    "my_string = \"hello world\"\n",
    "uppercase_string = my_string.upper()\n",
    "print(uppercase_string)   # Output: \"HELLO WORLD\"\n"
   ]
  },
  {
   "attachments": {},
   "cell_type": "markdown",
   "metadata": {},
   "source": [
    "### Functions\n",
    "A function is a reusable block of code which performs operations specified in the function. They let you break down tasks and allow you to reuse your code in different programs.\n",
    "\n",
    "There are two types of functions :\n",
    "\n",
    "- **Pre-defined functions**\n",
    "- **User defined functions**\n",
    "\n",
    "You can define functions to provide the required functionality. Here are simple rules to define a function in Python:\n",
    "\n",
    "- Functions blocks begin `def` followed by the function `name`and parentheses `()`.\n",
    "- There are input parameters or arguments that should be placed within these parentheses.\n",
    "- You can also define parameters inside these parentheses.\n",
    "- There is a body within every function that starts with a colon (`:`) and is indented.\n",
    "- You can also place documentation before the body.\n",
    "- The statement `return` exits a function, optionally passing back a value.\n",
    "\n",
    "#### Why even use functions?\n",
    "\n",
    "Put simply, you should use functions when you plan on using a block of code multiple times. The function will allow you to call the same block of code without having to write it multiple times. This in turn will allow you to create more complex Python scripts. To really understand this though, we should actually write our own functions! \n"
   ]
  },
  {
   "cell_type": "code",
   "execution_count": null,
   "metadata": {},
   "outputs": [],
   "source": [
    "# The syntax of a fucntion is as follows\n",
    "def name_of_function(arg1, arg2):\n",
    "    \n",
    "    '''\n",
    "    This is where the function's Document String (docstring) goes.\n",
    "    When you call help() on your function it will be printed out.\n",
    "    '''\n",
    "    \n",
    "    # Do stuff here\n",
    "    # Return desired result"
   ]
  },
  {
   "cell_type": "code",
   "execution_count": 2,
   "metadata": {},
   "outputs": [
    {
     "name": "stdout",
     "output_type": "stream",
     "text": [
      "The variable a is: 1, if you add 1 you get 2\n"
     ]
    },
    {
     "data": {
      "text/plain": [
       "2"
      ]
     },
     "execution_count": 2,
     "metadata": {},
     "output_type": "execute_result"
    }
   ],
   "source": [
    "# An example of a function that adds on to the parameter a prints and returns the output as b:\n",
    "def add(a):\n",
    "    \"\"\"\n",
    "    This simple function adds 1 to a variable a\n",
    "    \"\"\"\n",
    "    \n",
    "    b = a + 1\n",
    "    print(f\"The variable a is: {a}, if you add 1 you get {b}\")\n",
    "    return(b)\n",
    "\n",
    "add(1)"
   ]
  },
  {
   "attachments": {},
   "cell_type": "markdown",
   "metadata": {},
   "source": [
    "### Return\n",
    "The `return` keyword is used to specify the value that a function should return when it is called. When we call a function in Python, it executes all the statements within that function and may or may not provide an output. If you want your function to produce some output, you can use the return statement at the end of the function body."
   ]
  },
  {
   "cell_type": "code",
   "execution_count": 3,
   "metadata": {},
   "outputs": [
    {
     "data": {
      "text/plain": [
       "10"
      ]
     },
     "execution_count": 3,
     "metadata": {},
     "output_type": "execute_result"
    }
   ],
   "source": [
    "# In this example, we define a function calculate_sum() which takes two input parameters a and b.\n",
    "def calculate_sum(a, b):\n",
    "    \"\"\"\n",
    "    This function takes two input parameters a and b. It then calculates their sum and stores the result in a variable called sum.  \n",
    "    \"\"\"\n",
    "    sum = a + b\n",
    "    return(sum)\n",
    "\n",
    "calculate_sum(5, 5)"
   ]
  },
  {
   "attachments": {},
   "cell_type": "markdown",
   "metadata": {},
   "source": [
    "### Return vs Print\n",
    "Both the `print()` and `return()` statements are used inside a function but they serve different purposes.\n",
    "\n",
    "- The  `print()` statement is used to display output on the console or command prompt. When you call print() inside a function, it displays the value of the specified expression on the screen. However, after calling the function, the value cannot be accessed outside of the function. \n",
    "- On the other hand, the `return()` statement is used to send a value back to the caller of the function. When you call a function that contains a return statement, the program stops execution of the function and sends the specified value back to the code that called the function. This means that you can store the returned value in a variable and use it elsewhere in the program."
   ]
  },
  {
   "cell_type": "code",
   "execution_count": 5,
   "metadata": {},
   "outputs": [
    {
     "name": "stdout",
     "output_type": "stream",
     "text": [
      "Hello Jhon\n"
     ]
    }
   ],
   "source": [
    "# Inside the function, we use the print() statement to display a greeting message which includes the \n",
    "# value of the name argument passed to the function.\n",
    "def say_hello(name):\n",
    "    print(\"Hello \" + name)\n",
    "\n",
    "say_hello(\"John\") # Output: Hello John"
   ]
  },
  {
   "attachments": {},
   "cell_type": "markdown",
   "metadata": {},
   "source": [
    "### Default Values\n",
    "You can assign default values to function parameters in Python by providing a value for the parameter in the function signature. This means that if the calling code doesn't provide a value for the parameter, the default value will be used."
   ]
  },
  {
   "cell_type": "code",
   "execution_count": 7,
   "metadata": {},
   "outputs": [
    {
     "name": "stdout",
     "output_type": "stream",
     "text": [
      "Hello John Doe\n",
      "Hello Alice\n"
     ]
    }
   ],
   "source": [
    "# Here's an example:\n",
    "def say_hello(name = \"John Doe\"):\n",
    "    print(\"Hello \" + name)\n",
    "    \n",
    "say_hello() # Output: Hello, John Doe\n",
    "say_hello(\"Alice\") # Output: Hello, Alice"
   ]
  },
  {
   "attachments": {},
   "cell_type": "markdown",
   "metadata": {},
   "source": [
    "### Examples"
   ]
  },
  {
   "cell_type": "code",
   "execution_count": 40,
   "metadata": {},
   "outputs": [
    {
     "data": {
      "text/plain": [
       "[False, True, False, True, False, True]"
      ]
     },
     "execution_count": 40,
     "metadata": {},
     "output_type": "execute_result"
    }
   ],
   "source": [
    "# Create a fucntion that cheeks if a number is even inside a list\n",
    "def is_even(num_list):\n",
    "    \n",
    "    \"\"\"\n",
    "    This function takes a list of numbers as an argument and returns a boolean list indicating \n",
    "    if each number in the original list is even or not.\n",
    "    \"\"\"\n",
    "    \n",
    "    # Check if the input parameter is a list\n",
    "    is_list = type(num_list) == list\n",
    "    \n",
    "    # If the input parameter is indeed a list, create a new list containing whether each number in the \n",
    "    # original list is even or not and return it\n",
    "    if(is_list):\n",
    "        bool_list = []\n",
    "        \n",
    "        for number in num_list:\n",
    "            value = number % 2 == 0\n",
    "            bool_list.append(value)\n",
    "\n",
    "        return(bool_list)\n",
    "    \n",
    "    # If the input parameter is not a list, print an error message and return nothing\n",
    "    else:\n",
    "        print(\"The object is not a list\\nPlease supply a list!\")\n",
    "    \n",
    "# Run the function\n",
    "is_even([1,2,3,4,5,6])\n"
   ]
  },
  {
   "cell_type": "code",
   "execution_count": 49,
   "metadata": {},
   "outputs": [
    {
     "data": {
      "text/plain": [
       "[(1, False),\n",
       " (2, True),\n",
       " (3, False),\n",
       " (4, True),\n",
       " (5, False),\n",
       " (6, True),\n",
       " (7, False),\n",
       " (8, True),\n",
       " (9, False)]"
      ]
     },
     "execution_count": 49,
     "metadata": {},
     "output_type": "execute_result"
    }
   ],
   "source": [
    "def is_even_tuple(num_list):\n",
    "    is_list = type(num_list) == list\n",
    "\n",
    "    if(is_list):\n",
    "        bool_list = []\n",
    "        for number in num_list:\n",
    "            value = number % 2 == 0\n",
    "            bool_list.append(value)\n",
    "        \n",
    "        return([(num, val) for num, val in zip(num_list, bool_list)])\n",
    "        \n",
    "    else:\n",
    "        print(f\"The object is not a list, it is actually {type(num_list)}\")\n",
    "        print(\"Please supply a list\")\n",
    "\n",
    "is_even_tuple([1,2,3,4,5,6,7,8,9])"
   ]
  },
  {
   "cell_type": "code",
   "execution_count": 50,
   "metadata": {},
   "outputs": [
    {
     "data": {
      "text/plain": [
       "[(1, False),\n",
       " (2, True),\n",
       " (3, False),\n",
       " (4, True),\n",
       " (5, False),\n",
       " (6, True),\n",
       " (7, False),\n",
       " (8, True),\n",
       " (9, False)]"
      ]
     },
     "execution_count": 50,
     "metadata": {},
     "output_type": "execute_result"
    }
   ],
   "source": [
    "# A better version of the code above via chatGPT LOL\n",
    "def check_even(num_list):\n",
    "    return [(num, num % 2 == 0) for num in num_list]\n",
    "\n",
    "check_even([1,2,3,4,5,6,7,8,9])"
   ]
  }
 ],
 "metadata": {
  "kernelspec": {
   "display_name": "Python 3",
   "language": "python",
   "name": "python3"
  },
  "language_info": {
   "codemirror_mode": {
    "name": "ipython",
    "version": 3
   },
   "file_extension": ".py",
   "mimetype": "text/x-python",
   "name": "python",
   "nbconvert_exporter": "python",
   "pygments_lexer": "ipython3",
   "version": "3.11.1"
  },
  "orig_nbformat": 4
 },
 "nbformat": 4,
 "nbformat_minor": 2
}
