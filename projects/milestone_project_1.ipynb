{
 "cells": [
  {
   "attachments": {},
   "cell_type": "markdown",
   "metadata": {},
   "source": [
    "**Part 1**: Write a function that can print out a board. Set up your board as a list, where each index 1-9 corresponds with a number on a number pad, so you get a 3 by 3 board representation."
   ]
  },
  {
   "cell_type": "code",
   "execution_count": 2,
   "metadata": {},
   "outputs": [],
   "source": [
    "def display_board(board = [' '] * 9):\n",
    "    \"\"\"\n",
    "    This function displays the current state of the tic-tac-toe board.\n",
    "\n",
    "    Arguments:\n",
    "    - board: A list containing the current state of the board. The default value is a list with 9 '#' characters, representing an empty board.\n",
    "\n",
    "    Raises:\n",
    "    - ValueError: If the input list does not have exactly 9 elements.\n",
    "    \"\"\"\n",
    "\n",
    "    # Check if the length of the given board is equal to 9.\n",
    "    if len(board) == 9:\n",
    "\n",
    "        # Use a for loop to iterate over the board three rows at a time.\n",
    "        for i in range(0, 9, 3):\n",
    "\n",
    "            # Print out each row of the board using string formatting to center each cell value.\n",
    "            print(' {0:^3} | {1:^3} | {2:^3} '.format(\n",
    "                board[i], board[i + 1], board[i + 2]))\n",
    "\n",
    "            # Add horizontal dividers between rows (except for the last row).\n",
    "            if i < 6:\n",
    "                print('-' * 16)\n",
    "    else:\n",
    "        # Raise a ValueError if the input list does not have exactly 9 elements.\n",
    "        raise ValueError(\"Input list must have exactly 9 elements\")\n"
   ]
  },
  {
   "cell_type": "code",
   "execution_count": 3,
   "metadata": {},
   "outputs": [
    {
     "name": "stdout",
     "output_type": "stream",
     "text": [
      "  #  |  X  |  O  \n",
      "----------------\n",
      "  X  |  O  |  X  \n",
      "----------------\n",
      "  O  |  X  |  O  \n"
     ]
    }
   ],
   "source": [
    "test_board = ['#', 'X', 'O', 'X', 'O', 'X', 'O', 'X', 'O']\n",
    "display_board(test_board)\n"
   ]
  },
  {
   "attachments": {},
   "cell_type": "markdown",
   "metadata": {},
   "source": [
    "**Step 2**: Write a function that can take in a player input and assign their marker as 'X' or 'O'. Think about using *while* loops to continually ask until you get a correct answer."
   ]
  },
  {
   "cell_type": "code",
   "execution_count": 74,
   "metadata": {},
   "outputs": [],
   "source": [
    "def player_input():\n",
    "    \"\"\"\n",
    "    Prompts the user to select either 'X' or 'O' as their token, and returns a tuple containing both tokens for the \n",
    "    user and the computer. If an invalid token is entered, the function will continue prompting until a valid token is given.\n",
    "\n",
    "    Returns:\n",
    "    - A tuple containing two strings: the first string is the user's chosen token ('X' or 'O'), and the second string is the opposite token.\n",
    "    \"\"\"\n",
    "\n",
    "    # Set `invalid_token` to True initially. It will become `False` when the user enters a valid token.\n",
    "    invalid_token = True\n",
    "    while invalid_token:\n",
    "        try:\n",
    "            # Prompt the user to enter their desired token and convert it to uppercase.\n",
    "            token = input(\"Select your token: Either X or O\").upper()\n",
    "\n",
    "            # Check if the entered token is either 'X' or 'O'.\n",
    "            if token in ['X', 'O']:\n",
    "\n",
    "                # If the token is valid, set `invalid_token` to False and display a message indicating that the input is accepted.\n",
    "                invalid_token = False\n",
    "                print(f'Value accepted: Your token is {token}')\n",
    "\n",
    "            else:\n",
    "                # If the token is not valid, display an error message and allow the user to try again.\n",
    "                print(\n",
    "                    f'Value not accepted: You entered {token} and must be either X or O')\n",
    "\n",
    "        except Exception as e:\n",
    "\n",
    "            # If any other exception occurs, display an error message and break out of the loop.\n",
    "            print(f\"An error ocurred: {e}\")\n",
    "            break\n",
    "\n",
    "    # If the chosen token is 'X', return a tuple containing ('X', 'O'). Otherwise, return a tuple containing ('O', 'X').\n",
    "    if token == 'X':\n",
    "        return(('X', 'O'))\n",
    "    else:\n",
    "        return(('O', 'X'))\n"
   ]
  },
  {
   "cell_type": "code",
   "execution_count": 78,
   "metadata": {},
   "outputs": [
    {
     "name": "stdout",
     "output_type": "stream",
     "text": [
      "Value accepted: Your token is X\n"
     ]
    },
    {
     "data": {
      "text/plain": [
       "('X', 'O')"
      ]
     },
     "execution_count": 78,
     "metadata": {},
     "output_type": "execute_result"
    }
   ],
   "source": [
    "player_input()\n"
   ]
  },
  {
   "attachments": {},
   "cell_type": "markdown",
   "metadata": {},
   "source": [
    "**Step 3**: Write a function that takes in the board list object, a marker ('X' or 'O'), and a desired position (number 1-9) and assigns it to the board."
   ]
  },
  {
   "cell_type": "code",
   "execution_count": 5,
   "metadata": {},
   "outputs": [],
   "source": [
    "def place_marker(board, marker, place):\n",
    "    board[place] = marker\n"
   ]
  },
  {
   "cell_type": "code",
   "execution_count": 8,
   "metadata": {},
   "outputs": [
    {
     "name": "stdout",
     "output_type": "stream",
     "text": [
      "  #  |  X  | :V  \n",
      "----------------\n",
      "  X  |  O  |  X  \n",
      "----------------\n",
      "  O  |  X  |  O  \n"
     ]
    }
   ],
   "source": [
    "tes_board = ['#', 'X', 'O', 'X', 'O', 'X', 'O', 'X', 'O']\n",
    "place_marker(test_board, marker=':V', place=2)\n",
    "display_board(test_board)\n"
   ]
  },
  {
   "attachments": {},
   "cell_type": "markdown",
   "metadata": {},
   "source": [
    "**Step 4**: Write a function that takes in a board and a mark (X or O) and then checks to see if that mark has won."
   ]
  },
  {
   "cell_type": "code",
   "execution_count": 75,
   "metadata": {},
   "outputs": [],
   "source": [
    "def win_check(board, mark):\n",
    "    \"\"\"\n",
    "        This function checks if a player has won the game.\n",
    "\n",
    "        Arguments:\n",
    "        - board: A list containing the current state of the board.\n",
    "        - mark: The token of a cartain player.\n",
    "\n",
    "        Returns:\n",
    "        - A boolean if the entered player's token has won.\n",
    "        \"\"\"\n",
    "\n",
    "    # Define al possible wni configurationa\n",
    "    win_config = [\n",
    "\n",
    "        # Rows\n",
    "        [0, 1, 2], [3, 4, 5], [6, 7, 8],\n",
    "\n",
    "        # Columns\n",
    "        [0, 3, 6], [1, 4, 7], [2, 5, 8],\n",
    "\n",
    "        # Diagonal\n",
    "        [0, 4, 8], [2, 4, 6]\n",
    "    ]\n",
    "\n",
    "    # Get token positions\n",
    "    token_position = [i for i, value in enumerate(board) if value == mark]\n",
    "\n",
    "    # Iterate\n",
    "    for config in win_config:\n",
    "        for i in range(0, len(token_position) - 2):\n",
    "            if config == [token_position[i], token_position[i + 1], token_position[i + 2]]:\n",
    "                return True\n",
    "    return False\n"
   ]
  },
  {
   "cell_type": "code",
   "execution_count": 73,
   "metadata": {},
   "outputs": [],
   "source": [
    "example_board = ['X', ' ', ' ', 'X', ' ', ' ', 'X', ' ', ' ']\n"
   ]
  },
  {
   "attachments": {},
   "cell_type": "markdown",
   "metadata": {},
   "source": [
    "**Step 5**: Write a function that uses the random module to randomly decide which player goes first. You may want to lookup random.randint() Return a string of which player went first."
   ]
  },
  {
   "cell_type": "code",
   "execution_count": null,
   "metadata": {},
   "outputs": [],
   "source": [
    "import random\n",
    "\n",
    "def choose_first():\n",
    "    if random.randint(0, 1) == 0:\n",
    "        return 'Player 2'\n",
    "    else:\n",
    "        return 'Player 1'\n"
   ]
  },
  {
   "attachments": {},
   "cell_type": "markdown",
   "metadata": {},
   "source": [
    "**Step 6**: Write a function that returns a boolean indicating whether a space on the board is freely available."
   ]
  },
  {
   "cell_type": "code",
   "execution_count": null,
   "metadata": {},
   "outputs": [],
   "source": [
    "def space_check(board, place):\n",
    "\n",
    "    return board[place] == ' '\n"
   ]
  },
  {
   "attachments": {},
   "cell_type": "markdown",
   "metadata": {},
   "source": [
    "**Step 7**: Write a function that checks if the board is full and returns a boolean value. True if full, False otherwise."
   ]
  },
  {
   "cell_type": "code",
   "execution_count": null,
   "metadata": {},
   "outputs": [],
   "source": [
    "def full_board_check(board):\n",
    "    for i in range(0, 10):\n",
    "        if space_check(board, i):\n",
    "            return False\n",
    "    return True\n"
   ]
  },
  {
   "attachments": {},
   "cell_type": "markdown",
   "metadata": {},
   "source": [
    "**Step 8**: Write a function that asks for a player's next position (as a number 1-9) and then uses the function from step 6 to check if its a free position. If it is , then return the position for later use. "
   ]
  },
  {
   "cell_type": "code",
   "execution_count": null,
   "metadata": {},
   "outputs": [],
   "source": [
    "def player_choice(board):\n",
    "    position = 0\n",
    "\n",
    "    while position not in [1,2,3,4,5,6,7,8,9] or not space_check(board, position):\n",
    "        position = int(input('Choose your next position (1-9)'))\n",
    "\n",
    "    return position"
   ]
  },
  {
   "attachments": {},
   "cell_type": "markdown",
   "metadata": {},
   "source": [
    "**Step 9**: Write a function that asks the player if they want to play again and returns a boolean True if they do want to play again."
   ]
  },
  {
   "cell_type": "code",
   "execution_count": null,
   "metadata": {},
   "outputs": [],
   "source": [
    "def replay():\n",
    "    \n",
    "    return input('Do you want to play again? Enter Yes or No: ').lower().startswith('y')"
   ]
  },
  {
   "attachments": {},
   "cell_type": "markdown",
   "metadata": {},
   "source": [
    "**Step 10**: Here comes the hard part! Use while loops and the functions you've made to run the game!"
   ]
  },
  {
   "cell_type": "code",
   "execution_count": null,
   "metadata": {},
   "outputs": [],
   "source": [
    "print('Welcome to Tic Tac Toe!')\n",
    "\n",
    "while True:\n",
    "    # Reset the board\n",
    "    the_board = [' '] * 9\n",
    "    player_1_token, player_2_token = player_input()\n",
    "    turn = choose_first()\n",
    "    print(turn + 'will go first')\n",
    "\n",
    "    play_game = input('Are you ready to play? Enter Yes or No')\n",
    "\n",
    "    if "
   ]
  },
  {
   "cell_type": "code",
   "execution_count": null,
   "metadata": {},
   "outputs": [],
   "source": [
    "print('Welcome to Tic Tac Toe!')\n",
    "\n",
    "while True:\n",
    "    # Reset the board\n",
    "    theBoard = [' '] * 10\n",
    "    player1_marker, player2_marker = player_input()\n",
    "    turn = choose_first()\n",
    "    print(turn + ' will go first.')\n",
    "    \n",
    "    play_game = input('Are you ready to play? Enter Yes or No.')\n",
    "    \n",
    "    if play_game.lower()[0] == 'y':\n",
    "        game_on = True\n",
    "    else:\n",
    "        game_on = False\n",
    "\n",
    "    while game_on:\n",
    "        if turn == 'Player 1':\n",
    "            # Player1's turn.\n",
    "            \n",
    "            display_board(theBoard)\n",
    "            position = player_choice(theBoard)\n",
    "            place_marker(theBoard, player1_marker, position)\n",
    "\n",
    "            if win_check(theBoard, player1_marker):\n",
    "                display_board(theBoard)\n",
    "                print('Congratulations! You have won the game!')\n",
    "                game_on = False\n",
    "            else:\n",
    "                if full_board_check(theBoard):\n",
    "                    display_board(theBoard)\n",
    "                    print('The game is a draw!')\n",
    "                    break\n",
    "                else:\n",
    "                    turn = 'Player 2'\n",
    "\n",
    "        else:\n",
    "            # Player2's turn.\n",
    "            \n",
    "            display_board(theBoard)\n",
    "            position = player_choice(theBoard)\n",
    "            place_marker(theBoard, player2_marker, position)\n",
    "\n",
    "            if win_check(theBoard, player2_marker):\n",
    "                display_board(theBoard)\n",
    "                print('Player 2 has won!')\n",
    "                game_on = False\n",
    "            else:\n",
    "                if full_board_check(theBoard):\n",
    "                    display_board(theBoard)\n",
    "                    print('The game is a draw!')\n",
    "                    break\n",
    "                else:\n",
    "                    turn = 'Player 1'\n",
    "\n",
    "    if not replay():\n",
    "        break"
   ]
  }
 ],
 "metadata": {
  "kernelspec": {
   "display_name": "base",
   "language": "python",
   "name": "python3"
  },
  "language_info": {
   "codemirror_mode": {
    "name": "ipython",
    "version": 3
   },
   "file_extension": ".py",
   "mimetype": "text/x-python",
   "name": "python",
   "nbconvert_exporter": "python",
   "pygments_lexer": "ipython3",
   "version": "3.10.9"
  },
  "orig_nbformat": 4
 },
 "nbformat": 4,
 "nbformat_minor": 2
}
