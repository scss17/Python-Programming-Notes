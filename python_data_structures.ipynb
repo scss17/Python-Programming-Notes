{
 "cells": [
  {
   "attachments": {},
   "cell_type": "markdown",
   "metadata": {},
   "source": [
    "## Phyton Object and Data Structures Basics\n",
    "\n",
    "| **Name** | **Type** | **Description** |\n",
    "|:----:|:----:|:-----------|\n",
    "| Integers | int | Whole numbers: `3` |\n",
    "| Floating Point| float | Number with a decimal point: `2.3`|\n",
    "| Strings | str | Ordered sequence of characters: `\"hello\"` |\n",
    "| Lists | list | Ordered sequence of objects: `[10, \"hello\", 2.3]` |\n",
    "| Tuples | tup | Ordered immutale sequence of objects: `(10, \"hello\", 20.3)` |\n",
    "| Dictionaries | dict | Unordered sequence of objects `{\"mukey\":\"value\", \"name\": \"Frankie}` |\n",
    "| Sets | set | Unorderes collection of unique objects `{\"a\", \"b\"}` |\n",
    "| Booleans | bool | Logical value indicating `True` or `False` |"
   ]
  },
  {
   "attachments": {},
   "cell_type": "markdown",
   "metadata": {},
   "source": [
    "### Lists\n",
    "Lists are a fundamental data structure in Python that allow you to store an ordered collection of items.\n",
    "- Lists can contain any type of object: you can have a mix of integers, floats, strings, booleans, and other types of objects all in the same list.\n",
    "- Lists are ordered: the elements in a list are stored in a specific order, which allows you to access them by their index.\n",
    "- Lists are mutable: you can change the contents of a list by adding, removing, or replacing elements.\n",
    "- Lists can be nested: you can have a list inside another list as an element, allowing you to create complex data structures."
   ]
  },
  {
   "cell_type": "code",
   "execution_count": 1,
   "metadata": {},
   "outputs": [
    {
     "name": "stdout",
     "output_type": "stream",
     "text": [
      "1\n",
      "apple\n",
      "True\n"
     ]
    }
   ],
   "source": [
    "# To create a list, you can use square brackets [] and separate the items with commas.\n",
    "my_list = [1, 2, 3, 'apple', 'orange', True]\n",
    "\n",
    "# You can access individual items in a list using their index. In Python, list indices start at 0. For example:\n",
    "print(my_list[0])    # Output: 1\n",
    "print(my_list[3])    # Output: 'apple'\n",
    "\n",
    "# You can also use negative indices to count from the end of the list. So my_list[-1] refers to the last item in the list.\n",
    "print(my_list[-1])\n",
    "\n",
    "# You can modify the contents of a list by assigning new values to specific indices. For example:\n",
    "my_list[1] = 'banana'\n",
    "print(my_list)   # Output: [1, 'banana', 3, 'apple', 'orange', True]\n",
    "\n",
    "# This is a list that contains three sublists, each of which contains three integer values. \n",
    "nested_list = [[1, 2, 3], [4, 5, 6], [7, 8, 9]]\n",
    "\n",
    "# You can access individual elements of this list using indexing or slicing, just like you would with a regular list.\n",
    "print(nested_list[1][1])\n",
    "\n"
   ]
  },
  {
   "attachments": {},
   "cell_type": "markdown",
   "metadata": {},
   "source": [
    "#### List Methods\n",
    "There are several common methods that you can use with lists in Python. Here are some of them:\n",
    "\n",
    "- `append(item)`: adds a new item to the end of the list\n",
    "- `extend(iterable)`: adds all the items from an iterable (e.g., another list, tuple, or string) to the end of the list\n",
    "- `insert(index, item)`: inserts a new item at the specified index in the list\n",
    "- `remove(item)`: removes the first occurrence of the specified item from the list\n",
    "- `pop([index])`: removes and returns the item at the specified index (or the last item if no index is specified)\n",
    "- `index(item)`: returns the index of the first occurrence of the specified item in the list\n",
    "- `count(item)`: returns the number of times the specified item appears in the list\n",
    "- `sort()`: sorts the items in the list in ascending order\n",
    "- `reverse()`: reverses the order of the items in the list"
   ]
  },
  {
   "cell_type": "code",
   "execution_count": null,
   "metadata": {},
   "outputs": [],
   "source": [
    "# Example with .append()\n",
    "my_list = [1, 2, 3]\n",
    "my_list.append(4)\n",
    "print(my_list)  # Output: [1, 2, 3, 4]\n",
    "\n",
    "# Example with .extend()\n",
    "my_list = [1, 2, 3]\n",
    "my_tuple = (4, 5, 6)\n",
    "my_str = \"python\"\n",
    "my_list.extend(my_tuple)\n",
    "print(my_list)  # Output: [1, 2, 3, 4, 5, 6]\n",
    "\n",
    "my_list.extend(my_str)\n",
    "print(my_list)  # Output: [1, 2, 3, 4, 5, 6, 'p', 'y', 't', 'h', 'o', 'n']\n",
    "\n",
    "# Example with .insert()\n",
    "my_list = [1, 2, 3]\n",
    "my_list.insert(1, 4)\n",
    "print(my_list)  # Output: [1, 4, 2, 3]\n",
    "\n",
    "# Example with .remove()\n",
    "my_list = [1, 2, 3, 4, 3, 5]\n",
    "my_list.remove(3)\n",
    "print(my_list)  # Output: [1, 2, 4, 3, 5]\n",
    "\n",
    "# Example with .pop()\n",
    "my_list = [1, 2, 3, 4, 5]\n",
    "item = my_list.pop()\n",
    "print(item)      # Output: 5\n",
    "print(my_list)   # Output: [1, 2, 3, 4]\n",
    "\n",
    "item = my_list.pop(1)\n",
    "print(item)      # Output: 2\n",
    "print(my_list)   # Output: [1, 3, 4]\n",
    "\n",
    "# Example with .index()\n",
    "my_list = [1, 2, 3, 4, 5]\n",
    "index = my_list.index(3)\n",
    "print(index)   # Output: 2\n",
    "\n",
    "# Example with .count()\n",
    "my_list = [1, 2, 3, 4, 3, 5]\n",
    "count = my_list.count(3)\n",
    "print(count)   # Output: 2\n",
    "\n",
    "# Example with .sort()\n",
    "my_list = [3, 1, 4, 1, 5, 9, 2, 6, 5]\n",
    "my_list.sort()\n",
    "print(my_list)  # Output: [1, 1, 2, 3, 4, 5, 5, 6, 9]\n",
    "\n",
    "# Example with .reverse()\n",
    "my_list = [1, 2, 3, 4, 5]\n",
    "my_list.reverse()\n",
    "print(my_list)  # Output: [5, 4, 3, 2, 1]"
   ]
  },
  {
   "attachments": {},
   "cell_type": "markdown",
   "metadata": {},
   "source": [
    "### Tuples\n",
    "Tuples are an ordered, immutable sequence of elements in Python. They are similar to lists but with the key difference that once a tuple is created, it cannot be modified. Tuples can be useful in situations where you want a sequence of values that should not be changed during the execution of a program. This means that you can use tuples to store elements that should remain constant throughout your code.\n",
    "\n",
    "Here are a few reasons why you might choose to use a tuple:\n",
    "- **To store related values together**: Tuples allow you to group together related data and keep them organized. For example, you could use a tuple to store a person's name, age, and gender.\n",
    "- **To return multiple values from a function**: Unlike lists, tuples are immutable, meaning they cannot be changed after they are created. This makes them useful for returning multiple values from a function, since you can't accidentally modify the returned values.\n",
    "- **As dictionary keys**: Dictionaries in Python require that their keys be immutable. Since tuples are immutable, you can use them as dictionary keys without worrying about them changing unexpectedly."
   ]
  },
  {
   "cell_type": "code",
   "execution_count": null,
   "metadata": {},
   "outputs": [],
   "source": [
    "# Creating a tuple\n",
    "empty_tuple = () # Empty tuple\n",
    "one_element_tuple = (1,) # Tuple with one element\n",
    "fruits_tuple = ('apple', 'banana', 'cherry') # Tuple with multiple elements\n",
    "\n",
    "# Accessing elements of a tuple\n",
    "fruits_tuple = ('apple', 'banana', 'cherry')\n",
    "print(fruits_tuple[0])  # Accessing the first element Output: 'apple'\n",
    "print(fruits_tuple[-1])  # Accessing the last element Output: 'cherry'\n",
    "\n",
    "# Unpacking a tuple\n",
    "dimensions = (10, 20, 30)\n",
    "\n",
    "# Unpacking a tuple into separate variables\n",
    "length, width, height = dimensions\n",
    "print(length)  # Output: 10\n",
    "print(width)   # Output: 20\n",
    "print(height)  # Output: 30\n",
    "\n",
    "# Combining tuples\n",
    "tuple1 = (1, 2, 3)\n",
    "tuple2 = (4, 5, 6)\n",
    "combined_tuple = tuple1 + tuple2 # Concatenating two tuples\n",
    "print(combined_tuple)  # Output: (1, 2, 3, 4, 5, 6)\n"
   ]
  },
  {
   "attachments": {},
   "cell_type": "markdown",
   "metadata": {},
   "source": [
    "### Lists and Tuples\n",
    "Lists and tuples are similar in that they are both types of ordered sequences of elements. Both can be indexed and sliced using square brackets, and both can contain any mixture of data types (e.g. numbers, strings, other lists or tuples, etc.).\n",
    "- The main difference is that lists are mutable, meaning you can add, remove, or modify elements within a list after it has been created\n",
    "- Tuples, on the other hand, are immutable, meaning once they are created, you cannot change their contents. \n",
    "- Another difference is that lists use square brackets `[]` to define themselves, whereas tuples use parentheses `()`.\n",
    "\n",
    "### Cloning Lists and Tuples\n",
    "In Python, it is common to clone or copy a list when you want to create a new list with the same elements as an existing list. Cloning a list can be useful in many contexts because it allows you to modify one list without affecting the other.\n",
    "\n",
    "There are two main ways to clone or copy a list in Python:\n",
    "1. **Using slicing**: You can use slicing notation to create a new list that contains all of the elements from another list. This method creates a new list object and is an easy way to make a shallow copy of a list. \n",
    "2. **Using the built-in** `list()` **function**: The `list()` function can also be used to create a new list from an existing list. This method creates a new list object, similar to the previous method."
   ]
  },
  {
   "cell_type": "code",
   "execution_count": null,
   "metadata": {},
   "outputs": [],
   "source": [
    "# Using slicing\n",
    "original_list = [1, 2, 3, 4]\n",
    "new_list = original_list[:]\n",
    "\n",
    "# Using list function\n",
    "original_list = [1, 2, 3, 4]\n",
    "new_list = list(original_list)"
   ]
  }
 ],
 "metadata": {
  "kernelspec": {
   "display_name": "Python 3",
   "language": "python",
   "name": "python3"
  },
  "language_info": {
   "codemirror_mode": {
    "name": "ipython",
    "version": 3
   },
   "file_extension": ".py",
   "mimetype": "text/x-python",
   "name": "python",
   "nbconvert_exporter": "python",
   "pygments_lexer": "ipython3",
   "version": "3.11.1"
  },
  "orig_nbformat": 4
 },
 "nbformat": 4,
 "nbformat_minor": 2
}
