{
 "cells": [
  {
   "attachments": {},
   "cell_type": "markdown",
   "metadata": {},
   "source": [
    "# Object Oriented Programming\n",
    "**OOP** stands for Object-Oriented Programming. It is a programming paradigm that focuses on the creation of objects which can contain data and code to manipulate that data. Python is an object-oriented language, and as such, it provides all the features necessary to implement OOP concepts.\n",
    "\n",
    "In OOP, objects have attributes (data) and methods (functions) that can be used to interact with and manipulate the object. These objects can be created from classes, which act as blueprints for the objects. Classes can have inheritance relationships with other classes, allowing them to inherit attributes and methods from a parent class. Polymorphism is also another key feature of OOP, where objects of different classes can be treated as if they are the same type of object.\n",
    "\n",
    "In Python, everything is considered as an object. For example, strings, lists, dictionaries, and even functions are considered objects in Python.\n",
    "\n",
    "### Classes vs Functions\n",
    "The key difference between functions and OOP lies in their approach to problem-solving. Functions work with the data passed to them as parameters, while OOP works with objects that encapsulate data and behavior. Functions are best suited for situations where you just need to perform a specific computation or operation on values, whereas OOP is well-suited for complex systems, where different entities interact with each other and maintain their own internal states.\n",
    "\n",
    "- Functions defined using the `def` keyword are used to define a block of reusable code that performs a specific task. They usually operate on input arguments and return an output value, but they do not have any associated state. Functions are called by passing some values (arguments) into them and they execute the code defined within their body.\n",
    "\n",
    "- On the other hand, **Object-Oriented Programming** (OOP) is a programming paradigm based on the concept of \"objects\". Objects in OOP represent real-world entities having some attributes (properties) and performing some actions (methods). In Python, OOP is implemented using classes, which act as blueprints for creating objects. Each object created from a class has its own set of properties and methods that can be manipulated at runtime."
   ]
  },
  {
   "cell_type": "code",
   "execution_count": 2,
   "metadata": {},
   "outputs": [],
   "source": [
    "# In this example, Person is a class representing a human being. It has a class attribute species which is shared \n",
    "# by all instances of the class. The __init__ method is a special method that initializes new instances of the class \n",
    "# with instance attributes like name and age. The info method is an instance method that prints out some information \n",
    "# about the instance.\n",
    "class Person:\n",
    "\n",
    "    # Class attribute\n",
    "    species = \"human\"\n",
    "\n",
    "    # Initialize or constructor\n",
    "    def __init__(self, name, age):\n",
    "\n",
    "        # Instances attributes\n",
    "        self.name = name\n",
    "        self.age = age\n",
    "\n",
    "    # Instance method\n",
    "    def info(self):\n",
    "        print(f\"{self.name} is {self.age} years old\")\n",
    "\n"
   ]
  },
  {
   "cell_type": "code",
   "execution_count": 4,
   "metadata": {},
   "outputs": [
    {
     "name": "stdout",
     "output_type": "stream",
     "text": [
      "Alice\n",
      "25\n",
      "Alice is 25 years old\n"
     ]
    }
   ],
   "source": [
    "# Once you have defined a class in Python, you can create objects or instances of that class\n",
    "# For example, to create an instance of the Person class with the name \"Alice\" and age 25, you would do the following:\n",
    "alice = Person(\"Alice\", 25)\n",
    "\n",
    "# This creates a new Person object named alice with instance attributes name = \"Alice\" and age = 25. \n",
    "# You can access these attributes using dot notation:\n",
    "print(alice.name) # output: Alice\n",
    "print(alice.age) # output: 25\n",
    "\n",
    "# You can also call instance methods on the object like this:\n",
    "alice.info() # output: Alice is 25 years old."
   ]
  },
  {
   "attachments": {},
   "cell_type": "markdown",
   "metadata": {},
   "source": [
    "### Instances and Methods\n",
    "\n",
    "In object-oriented programming (OOP), an instance is a specific realization of any object. When you define a class in Python, you're essentially creating a blueprint or template that describes the properties (data) and behaviors (methods) that all instances of that class should have. An instance, then, is a single occurrence of that class, created according to its blueprint.\n",
    "\n",
    "To create an instance of a class in Python, you call the class as if it were a function, typically with arguments that specify the initial state of the instance."
   ]
  },
  {
   "cell_type": "code",
   "execution_count": 3,
   "metadata": {},
   "outputs": [],
   "source": [
    "import matplotlib.pyplot as plt\n",
    "%matplotlib inline  "
   ]
  },
  {
   "cell_type": "code",
   "execution_count": 4,
   "metadata": {},
   "outputs": [],
   "source": [
    "# Example: Create a class circle\n",
    "class Circle(object):\n",
    "    \n",
    "    # Constructor\n",
    "    def __init__(self, radius, color):\n",
    "        self.radius = radius\n",
    "        self.color = color\n",
    "\n",
    "    # Method\n",
    "    def add_radius(self, r):\n",
    "        self.radius = self.radius + r\n",
    "        return self.radius\n",
    "    \n",
    "    # Method\n",
    "    def drawCircle(self):\n",
    "        plt.gca().add_patch(plt.Circle((0, 0), radius = self.radius,  fc = self.color))\n",
    "        plt.axis('scaled')\n",
    "        plt.show() \n"
   ]
  },
  {
   "cell_type": "code",
   "execution_count": 10,
   "metadata": {},
   "outputs": [
    {
     "name": "stdout",
     "output_type": "stream",
     "text": [
      "Radius of object: 10\n",
      "Radius of object of after applying the method add_radius(2): 12\n"
     ]
    },
    {
     "data": {
      "image/png": "[encoded data removed]",
      "text/plain": [
       "<Figure size 640x480 with 1 Axes>"
      ]
     },
     "metadata": {},
     "output_type": "display_data"
    }
   ],
   "source": [
    "# Create an object RedCircle\n",
    "RedCircle = Circle(10, 'red')\n",
    "\n",
    "# Use method to change the object attribute radius\n",
    "print('Radius of object:', RedCircle.radius)\n",
    "RedCircle.add_radius(2)\n",
    "print('Radius of object of after applying the method add_radius(2):',RedCircle.radius)\n",
    "\n",
    "# Draw circle\n",
    "RedCircle.drawCircle()"
   ]
  },
  {
   "cell_type": "code",
   "execution_count": 8,
   "metadata": {},
   "outputs": [
    {
     "name": "stdout",
     "output_type": "stream",
     "text": [
      "Radius of object: 10\n",
      "Radius of object of after applying the method add_radius(2): 12\n"
     ]
    }
   ],
   "source": []
  }
 ],
 "metadata": {
  "kernelspec": {
   "display_name": "Python 3",
   "language": "python",
   "name": "python3"
  },
  "language_info": {
   "codemirror_mode": {
    "name": "ipython",
    "version": 3
   },
   "file_extension": ".py",
   "mimetype": "text/x-python",
   "name": "python",
   "nbconvert_exporter": "python",
   "pygments_lexer": "ipython3",
   "version": "3.10.9"
  },
  "orig_nbformat": 4
 },
 "nbformat": 4,
 "nbformat_minor": 2
}
