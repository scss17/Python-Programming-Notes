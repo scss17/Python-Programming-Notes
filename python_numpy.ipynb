{
 "cells": [
  {
   "attachments": {},
   "cell_type": "markdown",
   "metadata": {},
   "source": [
    "# Introduction to Numpy\n",
    "NumPy (short for Numerical Python) provides an efficient interface to store and operate on dense data buffers. In some ways, NumPy arrays are like Python’s built-in list type, but NumPy arrays provide much more efficient storage and data operations as the arrays grow larger in size. NumPy arrays form the core of nearly the entire ecosystem of data science tools in Python, so time spent learning to use NumPy effectively will be valuable no matter what aspect of data science interests you."
   ]
  },
  {
   "cell_type": "code",
   "execution_count": 16,
   "metadata": {},
   "outputs": [],
   "source": [
    "# Load libraries\n",
    "import numpy as np"
   ]
  },
  {
   "attachments": {},
   "cell_type": "markdown",
   "metadata": {},
   "source": [
    "\n",
    "## Creating Arrays from Python Lists\n",
    "- First, we can use `np.array` to create arrays from Python lists.\n",
    "- Remember that unlike Python lists, NumPy is constrained to arrays that all contain the same type. If types do not match, NumPy will upcast if possible.\n",
    "- If we want to explicitly set the data type of the resulting array, we can use the dtype keyword.\n",
    "- Finally, unlike Python lists, NumPy arrays can explicitly be multidimensional."
   ]
  },
  {
   "cell_type": "code",
   "execution_count": 17,
   "metadata": {},
   "outputs": [
    {
     "name": "stdout",
     "output_type": "stream",
     "text": [
      "[1 2 3 4 5 6]\n",
      "[1. 2. 3. 4. 5. 6.]\n",
      "[1. 2. 3. 4.]\n",
      "[[2 3 4]\n",
      " [4 5 6]\n",
      " [6 7 8]]\n"
     ]
    }
   ],
   "source": [
    "# Creating an integer array from a list\n",
    "int_array = np.array( [1, 2, 3, 4, 5, 6])\n",
    "print(int_array)\n",
    "\n",
    "# Here, integers are upcast to floating point\n",
    "float_array = np.array([1.0, 2, 3, 4, 5, 6])\n",
    "print(float_array)\n",
    "\n",
    "# We can use dtype keyword to specify the data type\n",
    "type_array = np.array([1, 2, 3, 4], dtype = float)\n",
    "print(type_array)\n",
    "\n",
    "# Creating an multidimensional array\n",
    "mult_array = np.array([range(i, i + 3) for i in [2, 4, 6]])\n",
    "print(mult_array)"
   ]
  },
  {
   "attachments": {},
   "cell_type": "markdown",
   "metadata": {},
   "source": [
    "## Creating Arrays from Scratch\n",
    "Especially for larger arrays, it is more efficient to create arrays from scratch using routines built into NumPy. Here I am goint to mention two methods that are more commonly used: `np.arange()` and `np.linspace()`\n",
    "\n",
    "`np.arange()` stands for \"NumPy array range\" and is a function provided by the NumPy library in Python. It returns an array of evenly spaced values within a specified interval. The syntax for using np.arange() is: \n",
    "        \n",
    "        np.arange([start,] stop[, step,], dtype = None)\n",
    "\n",
    "Where: \n",
    "- `start`: (optional): The start of the interval. If not specified, the default value is 0.\n",
    "- `stop`: The end of the interval. This parameter is required.\n",
    "- `step` (optional): The step size between each pair of adjacent values in the array. If not specified, the default value is 1.\n",
    "- `dtype` (optional): The data type of the array. If not specified, NumPy will choose the appropriate data type based on the other parameters.\n",
    "\n",
    "`np.linspace()` is another function provided by the NumPy library in Python. It returns an array of evenly spaced numbers over a specified interval. The syntax for using linspace() is:\n",
    "\n",
    "        np.linspace(start, stop, num=50, endpoint=True, retstep=False, dtype = None)\n",
    "\n",
    "Where:\n",
    "- `start`: The start of the interval. This parameter is required.\n",
    "- `stop`: The end of the interval. This parameter is required.\n",
    "- `num`: (optional): The number of values to generate. Default value is 50.\n",
    "- `endpoint`: (optional): Whether to include the end value in the array. Default value is True.\n",
    "- `retstep`: (optional): Whether to return the step value that was used. Default value is False.\n",
    "- `dtype`: (optional): The data type of the array. If not specified, NumPy will choose the appropriate data type based on the other parameters.\n"
   ]
  },
  {
   "cell_type": "code",
   "execution_count": 29,
   "metadata": {},
   "outputs": [
    {
     "name": "stdout",
     "output_type": "stream",
     "text": [
      "[0 0 0 0 0 0 0 0 0 0]\n",
      "[[1. 1. 1. 1. 1.]\n",
      " [1. 1. 1. 1. 1.]\n",
      " [1. 1. 1. 1. 1.]]\n",
      "[[3.14 3.14 3.14 3.14 3.14]\n",
      " [3.14 3.14 3.14 3.14 3.14]\n",
      " [3.14 3.14 3.14 3.14 3.14]]\n",
      "[ 0  2  4  6  8 10 12 14 16 18]\n",
      "[0.   0.25 0.5  0.75 1.  ]\n",
      "[[1. 0. 0.]\n",
      " [0. 1. 0.]\n",
      " [0. 0. 1.]]\n"
     ]
    }
   ],
   "source": [
    "# Create a length-10 integer array filled with zeros\n",
    "zero_array = np.zeros(shape = 10, dtype = int)\n",
    "print(zero_array)\n",
    "\n",
    "# Create a 3x5 floating-point array filled with 1s\n",
    "one_array = np.ones(shape = (3, 5), dtype = float)\n",
    "print(one_array)\n",
    "\n",
    "# Create a 3x5 array filled with 3.14\n",
    "value_array = np.full(shape = (3, 5), fill_value = 3.14)\n",
    "print(value_array)\n",
    "\n",
    "# Create an array filled with a linear sequence\n",
    "# Starting at 0, ending at 20, stepping by 2\n",
    "# (this is similar to the built-in range() function)\n",
    "seq_array = np.arange(start = 0, stop = 20, step = 2)\n",
    "print(seq_array)\n",
    "\n",
    "# Create an array of five values evenly spaced between 0 and 1\n",
    "even_array = np.linspace(start = 0, stop = 1, num = 5)\n",
    "print(even_array)\n",
    "\n",
    "# Create a 3x3 identity matrix\n",
    "identity_array = np.eye(N = 3)\n",
    "print(identity_array)"
   ]
  },
  {
   "attachments": {},
   "cell_type": "markdown",
   "metadata": {},
   "source": [
    "### Random Module\n",
    "The `np.random` module is a sub-module of the NumPy library which provides functions for generating random numbers. It's commonly used in machine learning applications, simulations and statistical analysis. Here are some commonly used functions in numpy.random:\n",
    "\n",
    "- `rand()`: generates an array of random samples from a uniform distribution over the interval [0, 1).\n",
    "- `randn()`: generates an array of samples from a standard normal distribution (mean = 0, variance = 1).\n",
    "- `randint()`: generates random integers from low (inclusive) to high (exclusive), where you can specify the size and shape of the output array.\n",
    "- `random()`: generates an array of random floats between 0 and 1 (excluding 1).\n",
    "- `choice()`: generates a random sample from a given 1D array, with replacement or without replacement.\n",
    "- `shuffle()`: shuffles the elements in a given 1D array.\n",
    "- `normal()`: generates an array of samples from a normal distribution with specified mean and standard deviation.\n"
   ]
  },
  {
   "cell_type": "code",
   "execution_count": 33,
   "metadata": {},
   "outputs": [
    {
     "name": "stdout",
     "output_type": "stream",
     "text": [
      "[[0.34517572 0.73485715 0.97802204]\n",
      " [0.26860885 0.21435429 0.45992539]\n",
      " [0.13177993 0.17355146 0.50103694]]\n",
      "[[-0.41906872  0.29326765 -1.12070206]\n",
      " [-1.31093232 -1.37388139  0.39575358]\n",
      " [-1.35720927 -1.65754914 -2.40962646]]\n",
      "[[9 1 4]\n",
      " [6 2 2]\n",
      " [9 4 6]]\n"
     ]
    }
   ],
   "source": [
    "# Create a 3x3 array of uniformly distributed random values between 0 and 1\n",
    "uni_array = np.random.random((3, 3))\n",
    "print(uni_array)\n",
    "\n",
    "# Create a 3x3 array of normally distributed random values with mean 0 and standard deviation 1\n",
    "norm_array = np.random.normal(loc = 0, scale = 1, size = (3, 3))\n",
    "print(norm_array)\n",
    "\n",
    "# Create a 3x3 array of random integers in the interval [0, 10)\n",
    "rand_int_array = np.random.randint(low = 0, high = 10, size = (3, 3))\n",
    "print(rand_int_array)"
   ]
  },
  {
   "attachments": {},
   "cell_type": "markdown",
   "metadata": {},
   "source": [
    "## The Basics of NumPy Arrays\n",
    "Data manipulation in Python is nearly synonymous with NumPy array manipulation: even newer tools like Pandas (Chapter 3) are built around the NumPy array. This section will present several examples using NumPy array manipulation to access data and subarrays, and to split, reshape, and join the arrays.\n",
    "\n",
    "We’ll cover a few categories of basic array manipulations here:\n",
    "- **Attributes of arrays**: Determining the size, shape, memory consumption, and data types of arrays\n",
    "- **Indexing of arrays**: Getting and setting the value of individual array elements\n",
    "- **Slicing of arrays**: Getting and setting smaller subarrays within a larger array\n",
    "- **Reshaping of arrays**: Changing the shape of a given array\n",
    "- **Joining and splitting**: of arrays: Combining multiple arrays into one, and splitting one array into many\n",
    "\n",
    "### Attributes of arrays\n",
    "Each array has attributes ndim (the number of dimensions), shape (the size of each dimension), and size (the total size of the array)"
   ]
  },
  {
   "cell_type": "code",
   "execution_count": 34,
   "metadata": {},
   "outputs": [
    {
     "name": "stdout",
     "output_type": "stream",
     "text": [
      "x3 ndim:  3\n",
      "x3 shape: (3, 4, 5)\n",
      "x3 size:  60\n"
     ]
    }
   ],
   "source": [
    "# Creating different arrays\n",
    "x1 = np.random.randint(10, size = 6) # One-dimensional array\n",
    "x2 = np.random.randint(10, size = (3, 4)) # Two-dimensional array\n",
    "x3 = np.random.randint(10, size = (3, 4, 5)) # Three-dimensional array\n",
    "\n",
    "# Printing array attributes\n",
    "print(\"x3 ndim: \", x3.ndim)\n",
    "print(\"x3 shape:\", x3.shape)\n",
    "print(\"x3 size: \", x3.size)\n",
    "\n",
    "# Another useful attribute is the dtype\n",
    "print(\"dtype:\", x3.dtype)"
   ]
  },
  {
   "attachments": {},
   "cell_type": "markdown",
   "metadata": {},
   "source": [
    "## Array Indexing: Accessing Single Elements\n",
    "If you are familiar with Python’s standard list indexing, indexing in NumPy will feel quite familiar. \n",
    "- In a one-dimensional array, you can access the ith value (counting from zero) by specifying the desired index in square brackets, just as with Python lists.\n",
    "- To index from the end of the array, you can use negative indices.\n",
    "- In a multidimensional array, you access items using a comma-separated tuple of indices.\n",
    "- You can also modify values using any of the above index notation.\n",
    "- Keep in mind that, unlike Python lists, NumPy arrays have a fixed type. This means, for example, that if you attempt to insert a floating-point value to an integer array, the value will be silently truncated. Don’t be caught unaware by this behavior"
   ]
  },
  {
   "cell_type": "code",
   "execution_count": 40,
   "metadata": {},
   "outputs": [
    {
     "name": "stdout",
     "output_type": "stream",
     "text": [
      "[6 3 3 2 9 8]\n",
      "[3 9]\n",
      "9\n",
      "[[9 7 3 9]\n",
      " [4 6 9 3]\n",
      " [8 0 5 4]]\n",
      "9\n"
     ]
    }
   ],
   "source": [
    "# You can access the ith value (counting from zero) by specifying the desired index\n",
    "print(x1)\n",
    "print(x1[[1, 4]])\n",
    "\n",
    "# To index from the end of the array, you can use negative indices\n",
    "print(x1[-2])\n",
    "\n",
    "# In a multidimensional array, you access items using a comma-separated tuple of indices\n",
    "print(x2)\n",
    "print(x2[0, 0])"
   ]
  },
  {
   "attachments": {},
   "cell_type": "markdown",
   "metadata": {},
   "source": [
    "## Array Slicing: Accessing Subarrays\n",
    "Just as we can use square brackets to access individual array elements, we can also use them to access subarrays with the slice notation, marked by the colon `(:)` character. The NumPy slicing syntax follows that of the standard Python list; to access a slice of an array x, use this:\n",
    "    \n",
    "        x[start:stop:step]\n",
    "\n",
    "If any of these are unspecified, they default to the values `start = 0`, `stop = size` of dimension, `step = 1`"
   ]
  },
  {
   "cell_type": "code",
   "execution_count": 56,
   "metadata": {},
   "outputs": [
    {
     "name": "stdout",
     "output_type": "stream",
     "text": [
      "[0 1 2 3 4]\n",
      "[5 6 7 8 9]\n",
      "[4 5 6]\n",
      "[0 2 4 6 8]\n",
      "[1 3 5 7 9]\n",
      "[9 8 7 6 5 4 3 2 1 0]\n",
      "[5 3 1]\n"
     ]
    },
    {
     "data": {
      "text/plain": [
       "array([6, 5, 4, 3, 2])"
      ]
     },
     "execution_count": 56,
     "metadata": {},
     "output_type": "execute_result"
    }
   ],
   "source": [
    "# One-dimensional subarrays\n",
    "# Create an array\n",
    "x = np.arange(10)\n",
    "\n",
    "print(x[:5]) # first five elements\n",
    "print(x[5:]) # elements after index 5\n",
    "print(x[4:7]) # middle subarray\n",
    "print(x[::2]) # every other element\n",
    "print(x[1::2]) # every other element, starting at index 1\n",
    "\n",
    "# With negative step value\n",
    "print(x[::-1]) # all elements, reversed\n",
    "print(x[5::-2]) # reversed every other from index 5\n",
    "print(x[6:1:-1]) # Inverted"
   ]
  },
  {
   "cell_type": "code",
   "execution_count": 59,
   "metadata": {},
   "outputs": [
    {
     "name": "stdout",
     "output_type": "stream",
     "text": [
      "[[5 9 6 4]\n",
      " [1 4 9 1]\n",
      " [6 9 5 8]]\n",
      "[[5 9 6]\n",
      " [1 4 9]]\n",
      "[[5 6]\n",
      " [1 9]\n",
      " [6 5]]\n",
      "[[8 5 9 6]\n",
      " [1 9 4 1]\n",
      " [4 6 9 5]]\n"
     ]
    }
   ],
   "source": [
    "# Multidimensional subarrays\n",
    "# Create an array\n",
    "x2 = np.random.randint(10, size = (3, 4))\n",
    "print(x2)\n",
    "\n",
    "print(x2[:2, :3]) # two rows, three columns\n",
    "print(x2[:3, ::2]) # all rows, every other column\n",
    "print(x2[::-1, ::-1]) # subarray dimensions can even be reversed together"
   ]
  },
  {
   "cell_type": "code",
   "execution_count": 62,
   "metadata": {},
   "outputs": [
    {
     "name": "stdout",
     "output_type": "stream",
     "text": [
      "[5 1 6]\n",
      "[5 9 6 4]\n",
      "[5 9 6 4]\n"
     ]
    }
   ],
   "source": [
    "# Accessing array rows and columns\n",
    "print(x2[:, 0]) # first column of x2\n",
    "print(x2[0, :]) # first row of x2\n",
    "\n",
    "# In the case of row access, the empty slice can be omitted for a more compact syntax:\n",
    "print(x2[0]) # equivalent to x2[0, :]"
   ]
  },
  {
   "attachments": {},
   "cell_type": "markdown",
   "metadata": {},
   "source": [
    "### Reshaping of Arrays\n",
    "Another useful type of operation is reshaping of arrays. The most flexible way of doing this is with the `reshape()` method. Note that for this to work, the size of the initial array must match the size of the reshaped array."
   ]
  },
  {
   "cell_type": "code",
   "execution_count": 69,
   "metadata": {},
   "outputs": [
    {
     "name": "stdout",
     "output_type": "stream",
     "text": [
      "[[1 2 3]\n",
      " [4 5 6]\n",
      " [7 8 9]]\n"
     ]
    },
    {
     "data": {
      "text/plain": [
       "array([[1],\n",
       "       [2],\n",
       "       [3]])"
      ]
     },
     "execution_count": 69,
     "metadata": {},
     "output_type": "execute_result"
    }
   ],
   "source": [
    "# For example, if you want to put the numbers 1 through 9 in a 3×3 grid, you can do the following:\n",
    "grid = np.arange(1, 10).reshape((3, 3))\n",
    "print(grid)\n",
    "\n",
    "# Another common reshaping pattern is the conversion of a one-dimensional array into a two-dimensional row or column matrix.\n",
    "x = np.array([1, 2, 3])\n",
    "x.reshape((1, 3)) # row vector via reshape\n",
    "x[np.newaxis, :] # row vector via newaxis\n",
    "\n",
    "x.reshape((3, 1)) # column vector via reshape\n",
    "x[:, np.newaxis] # column vector via newaxis"
   ]
  },
  {
   "attachments": {},
   "cell_type": "markdown",
   "metadata": {},
   "source": [
    "### Array Concatenation and Splitting\n",
    "All of the preceding routines worked on single arrays. It’s also possible to combine multiple arrays into one, and to conversely split a single array into multiple arrays. We’ll take a look at those operations here.\n",
    "\n",
    "- **Concatenation of arrays**: Concatenation, or joining of two arrays in NumPy, is primarily accomplished through the routines `np.concatenate`, `np.vstack`, and `np.hstack`. \n",
    "- **Spliting of Arrays**: The opposite of concatenation is splitting, which is implemented by the functions `np.split`, `np.hsplit`, and `np.vsplit`."
   ]
  },
  {
   "cell_type": "code",
   "execution_count": 70,
   "metadata": {},
   "outputs": [
    {
     "data": {
      "text/plain": [
       "array([1, 2, 3, 3, 2, 1])"
      ]
     },
     "execution_count": 70,
     "metadata": {},
     "output_type": "execute_result"
    }
   ],
   "source": [
    "# Concatenation of arrays\n",
    "# np.concatenate takes a tuple or list of arrays as its first argument\n",
    "x = np.array([1, 2, 3])\n",
    "y = np.array([3, 2, 1])\n",
    "np.concatenate([x, y])\n",
    "\n",
    "# np.concatenate can also be used for two-dimensional arrays\n",
    "grid = np.array([[1, 2, 3], \n",
    "                 [4, 5, 6]])\n",
    "\n",
    "# concatenate along the first axis\n",
    "np.concatenate([grid, grid])\n",
    "\n",
    "# concatenate along the second axis (zero-indexed)\n",
    "np.concatenate([grid, grid], axis = 1)"
   ]
  },
  {
   "cell_type": "code",
   "execution_count": 72,
   "metadata": {},
   "outputs": [
    {
     "data": {
      "text/plain": [
       "array([[ 9,  8,  7, 99],\n",
       "       [ 6,  5,  4, 99]])"
      ]
     },
     "execution_count": 72,
     "metadata": {},
     "output_type": "execute_result"
    }
   ],
   "source": [
    "# For working with arrays of mixed dimensions, it can be clearer to use the np.vstack\n",
    "# (vertical stack) and np.hstack (horizontal stack) functions:\n",
    "x = np.array([1, 2, 3])\n",
    "grid = np.array([[9, 8, 7],\n",
    "                 [6, 5, 4]])\n",
    "\n",
    "# vertically stack the arrays\n",
    "np.vstack([x, grid])\n",
    "\n",
    "# horizontally stack the arrays\n",
    "y = np.array([[99],\n",
    "              [99]])\n",
    "\n",
    "np.hstack([grid, y])"
   ]
  },
  {
   "cell_type": "code",
   "execution_count": 73,
   "metadata": {},
   "outputs": [
    {
     "name": "stdout",
     "output_type": "stream",
     "text": [
      "[1 2 3] [99 99] [3 2 1]\n",
      "[[0 1 2 3]\n",
      " [4 5 6 7]]\n",
      "[[ 8  9 10 11]\n",
      " [12 13 14 15]]\n"
     ]
    }
   ],
   "source": [
    "# For each of these, we can pass a list of indices giving the split points:\n",
    "x = [1, 2, 3, 99, 99, 3, 2, 1]\n",
    "x1, x2, x3 = np.split(x, [3, 5])\n",
    "print(x1, x2, x3)\n",
    "\n",
    "# Notice that N split points lead to N + 1 subarrays. The related functions np.hsplit and np.vsplit are similar:\n",
    "grid = np.arange(16).reshape((4, 4))\n",
    "upper, lower = np.vsplit(grid, [2])\n",
    "print(upper)\n",
    "print(lower)\n",
    "\n",
    "left, right = np.hsplit(grid, [2])\n",
    "print(left)\n",
    "print(right)"
   ]
  }
 ],
 "metadata": {
  "kernelspec": {
   "display_name": "base",
   "language": "python",
   "name": "python3"
  },
  "language_info": {
   "codemirror_mode": {
    "name": "ipython",
    "version": 3
   },
   "file_extension": ".py",
   "mimetype": "text/x-python",
   "name": "python",
   "nbconvert_exporter": "python",
   "pygments_lexer": "ipython3",
   "version": "3.10.9"
  },
  "orig_nbformat": 4
 },
 "nbformat": 4,
 "nbformat_minor": 2
}
