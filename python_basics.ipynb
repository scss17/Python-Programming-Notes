{
 "cells": [
  {
   "attachments": {},
   "cell_type": "markdown",
   "metadata": {},
   "source": [
    "## Phyton Object and Data Structures Basics\n",
    "\n",
    "| **Name** | **Type** | **Description** |\n",
    "|:----:|:----:|:-----------|\n",
    "| Integers | int | Whole numbers: 3 |\n",
    "| Floating Point| float | Number with a decimal point: 2.3|\n",
    "| Strings | str | Ordered sequence of characters: \"hello\" |\n",
    "| Lits | list | Ordered sequence of objects: [10, \"hello\", 2.3] |\n",
    "| Dictionaries | dict | Unordered sequence of objects {\"mukey\":\"value\", \"name\": \"Frankie} |\n",
    "| Tuples | tup | Ordered immutale sequence of objects: (10, \"hello\", 20.3) |\n",
    "| Sets | set | Unorderes collection of unique objects {\"a\", \"b\"} |\n",
    "| Booleans | bool | Logical value indicating True or False |\n",
    "\n",
    "### Numerical\n",
    "There are tow main number types we will work with in Python:\n",
    "- Integers which are whole numbers.\n",
    "    - Integers are positive or negatve without fractional part.\n",
    "    - You can create an integer by simply assigning a number to a variable: `x = 5`\n",
    "    - The type of an integer in Python is `int`.\n",
    "- Floating Point Numbers which are numbers with a decimal.\n",
    "    - Floating-point numbers, or floats, are used to represent decimal numbers.\n",
    "    - Floats are represented using binary floating-point arithmetic, which can sometimes lead to rounding errors.\n",
    "    - You can create a float by using a decimal point or exponent notation: `x = 5.0` or `y = 2e3`.\n",
    "    - The type of a float in Python is `float`.\n",
    "\n",
    "**Note**: It's important to keep in mind that when performing mathematical operations on data types in Python, the result will be of the same data type as the inputs."
   ]
  },
  {
   "cell_type": "code",
   "execution_count": null,
   "metadata": {},
   "outputs": [],
   "source": [
    "# For example, if you add two integers, the result will be an integer. \n",
    "# Integers\n",
    "a = 5 + 2   # result: 7 (integer)\n",
    "b = 10 - 3  # result: 7 (integer)\n",
    "c = 8 * 4   # result: 32 (integer)\n",
    "d = 9 // 4  # result: 2 (integer)\n",
    "\n",
    "# Floats\n",
    "a = 4.2 + 1   # result: 5.2 (float)\n",
    "b = 3.14 - 1.5 # result: 1.64 (float)\n",
    "c = 2.5 * 3   # result: 7.5 (float)\n",
    "d = 9 / 4     # result: 2.25 (float)\n",
    "\n",
    "# However, if you add an integer and a float, the result will be a float.\n",
    "# Mixed Types\n",
    "a = 5 + 2.0  # result: 7.0 (float)\n",
    "b = 10 - 3.0 # result: 7.0 (float)\n",
    "c = 8 * 4.0  # result: 32.0 (float)\n",
    "d = 9 / 4    # result: 2.25 (float)\n",
    "\n",
    "# Here's an example of some basic math operations using Python's numerical data types:\n",
    "# Addition\n",
    "x = 5 + 2   # result: 7\n",
    "y = 4.2 + 1 # result: 5.2\n",
    "\n",
    "# Subtraction\n",
    "x = 10 - 3     # result: 7\n",
    "y = 3.14 - 1.5 # result: 1.64\n",
    "\n",
    "# Multiplication\n",
    "x = 8 * 4       # result: 32\n",
    "y = 2.5 * 3     # result: 7.5\n",
    "\n",
    "# Division\n",
    "x = 10 / 2      # result: 5.0\n",
    "y = 9 / 4       # result: 2.25 (float division)\n",
    "z = 9 // 4      # result: 2 (integer division)\n"
   ]
  },
  {
   "attachments": {},
   "cell_type": "markdown",
   "metadata": {},
   "source": [
    "<hr/>\n",
    "It's worth noting that the division operator <code>(/)</code> performs floating-point division even if both operands are integers. To perform integer division in Python, use the double-forward-slash operator <code>(//)</code>, which discards the remainder and returns an integer result.\n",
    "<hr/>"
   ]
  },
  {
   "attachments": {},
   "cell_type": "markdown",
   "metadata": {},
   "source": [
    "### Strings\n",
    "\n",
    "Strings are a fundamental data type in Python that represent textual data. Strings are sequeces of characters, using the syntax of either single quotes or double quotes. \n",
    "- Strings are immutable, which means you can't modify them in place.\n",
    "- Strings are enclosed in single quotes `('...')` or double quotes `(\"...\")`. Both forms are equivalent, but you should use one consistently within your code for the sake of readability.\n",
    "- String literals can contain escape sequences that represent special characters, such as newline `(\\n)`, tab `(\\t)`, or backslash `(\\\\)`.\n",
    "- Strings support concatenation and repetition with the + and * operators, respectively.\n",
    "- String methods like `.lower()`, `.upper()`, `.strip()`, `.replace()`, and many others exist to manipulate strings in various ways. You can learn more about these methods by reading Python's documentation on string methods\n",
    "- Strings are **orderes sequences**, which means we can use **indexing** and **slicing** to grab sub-sections of the srtring. You can access individual characters in a string using square brackets `[ ]`. The first character has index 0, and negative indices count from the end of the string.  \n",
    "- String slicing is a feature in Python that allows you to extract a portion of a string (substring) from a given starting index to an ending index. The syntax for string slicing is as follows: `string[start:end:step]`\n",
    "\n",
    "    - **start**: the starting index of the substring (inclusive). If not specified, it defaults to 0.\n",
    "    - **end**: the ending index of the substring (exclusive). This parameter is optional and if not specified, it defaults to the legth of the string.\n",
    "    - **step**: the number of characters to skip between each character in the slice. This parameter is optional and if not specified, it defaults to 1.\n",
    "\n",
    "\n"
   ]
  },
  {
   "cell_type": "code",
   "execution_count": null,
   "metadata": {},
   "outputs": [],
   "source": [
    "#  In Python, strings can be enclosed in either single quotes (') or double quotes (\"). There's no practical difference between \n",
    "# the two when it comes to creating strings. Here's an example that demonstrates this\n",
    "name1 = 'Alice'\n",
    "name2 = \"Bob\"\n",
    "greeting = \"Hello there\"\n",
    "\n",
    "print(name1)     # Output: Alice\n",
    "print(name2)     # Output: Bob\n",
    "print(greeting)  # Output: Hello there\n",
    "\n",
    "\n",
    "# However, there are some cases where you might want to use one type of quote over the other. For example, if your string contains \n",
    "# # an apostrophe, enclose the string in double quotes to avoid syntax errors:\n",
    "message = \"I don't know\"\n"
   ]
  },
  {
   "cell_type": "code",
   "execution_count": 5,
   "metadata": {},
   "outputs": [
    {
     "name": "stdout",
     "output_type": "stream",
     "text": [
      "She said, 'Hello!'\n",
      "First line.\n",
      "Second line.\n",
      "\\\n",
      "First word\tSecond word\n"
     ]
    }
   ],
   "source": [
    "# Here's an example of how you might use an escape sequence to include a quote character inside a string literal:\n",
    "print('She said, \\'Hello!\\'')   # Output: She said, 'Hello!'\n",
    "\n",
    "# And here's an example of using \\n to insert a newline character:\n",
    "print('First line.\\nSecond line.')   # Output: \n",
    "                                      # First line.\n",
    "                                      # Second line.\n",
    "\n",
    "# Note that the backslash itself can also be escaped with another backslash, like this:\n",
    "print('\\\\')   # Output: \\\n",
    "\n",
    "# Here's an example using the \\t escape sequence to insert a tab character between two words in a string:\n",
    "print('First word\\tSecond word')   # Output: First word    Second word\n"
   ]
  },
  {
   "cell_type": "code",
   "execution_count": 7,
   "metadata": {},
   "outputs": [
    {
     "name": "stdout",
     "output_type": "stream",
     "text": [
      "Hello, Alice. How are you today?\n",
      "Hi Bob! Wow, Wow, Wow, \n"
     ]
    }
   ],
   "source": [
    "# String concatenation means joining two or more strings together to create a new, longer string. \n",
    "# In Python, you can concatenate strings using the + operator.\n",
    "greeting = \"Hello\"\n",
    "name = \"Alice\"\n",
    "message = greeting + \", \" + name + \". How are you today?\"\n",
    "print(message)\n",
    "\n",
    "# String repetition means creating a new string by repeating another string a certain number of times. \n",
    "# In Python, you can repeat a string using the * operator.\n",
    "name = \"Bob\"\n",
    "greeting = \"Hi \" + name + \"! \"\n",
    "excitement = \"Wow, \" * 3\n",
    "message = greeting + excitement\n",
    "print(message)\n"
   ]
  },
  {
   "attachments": {},
   "cell_type": "markdown",
   "metadata": {},
   "source": [
    "### String Formatting\n",
    "String formatting is a way to insert values into a string by using placeholders that get replaced with actual values at runtime. There are two main ways to do this in Python:\n",
    "\n",
    "- Using the `%` operator\n",
    "- Using the `format()` method\n",
    "\n",
    "Both methods have their own syntax and use different types of placeholders, but they achieve the same result."
   ]
  },
  {
   "cell_type": "code",
   "execution_count": 8,
   "metadata": {},
   "outputs": [
    {
     "name": "stdout",
     "output_type": "stream",
     "text": [
      "Hi, my name is Alice and I'm 25 years old.\n",
      "The value of x is 10, and the value of y is 5. So, x + y = 15.\n",
      "My name is Bob and I'm 30 years old.\n"
     ]
    }
   ],
   "source": [
    "# In the above example, we've used the string method format() to replace two pairs of curly braces {} with \n",
    "# the values of the name and age variables respectively\n",
    "name = \"Alice\"\n",
    "age = 25\n",
    "message = \"Hi, my name is {} and I'm {} years old.\".format(name, age)\n",
    "print(message)\n",
    "\n",
    "# You can also reference the arguments by index or by name. Here are some examples:\n",
    "# Using index\n",
    "x = 10\n",
    "y = 5\n",
    "message = \"The value of x is {0}, and the value of y is {1}. So, x + y = {2}.\".format(x, y, x + y)\n",
    "print(message)\n",
    "\n",
    "# Using name\n",
    "# Here you use  double asterisks (**) to unpack the dictionary and pass its values as named arguments to the format() method.\n",
    "person = {\"name\": \"Bob\", \"age\": 30}\n",
    "message = \"My name is {name} and I'm {age} years old.\".format(**person)\n",
    "print(message)\n",
    "\n",
    "# The % operator is an old way of doing string formatting in Python, but it's still widely used. Here's an example:\n",
    "# We've used %s as a placeholder for the string value of name, and %d as a placeholder for the integer value of age. \n",
    "# The values are passed to the % operator as a tuple, enclosed in parentheses.\n",
    "name = \"Alice\"\n",
    "age = 25\n",
    "message = \"Hi, my name is %s and I'm %d years old.\" % (name, age)\n",
    "print(message)\n"
   ]
  },
  {
   "attachments": {},
   "cell_type": "markdown",
   "metadata": {},
   "source": [
    "### Variable Assignment\n",
    "\n",
    "In Python, variables are used to store values or data. Variable assignment is the process of assigning a value to a variable. To assign a value to a variable, you start by specifying the variable name, followed by an equals sign `=` and then the value you want to assign to that variable. \n",
    "- Variable names can only contain letters, numbers, and underscores (_).\n",
    "- Variable names must start with a letter or an underscore.\n",
    "- Variable names cannot start with a number.\n",
    "- Variable names are case-sensitive, so my_variable and My_Variable would be considered different variables.\n",
    "- Variable names should be descriptive and meaningful. This makes your code easier to read and understand.\n",
    "- Avoid using reserved keywords as variable names (e.g. if, else, def).\n",
    "\n",
    "Python is a **dynamically type** language, which means that the data type of a variable is determined at runtime, rather than being explicitly defined in the code. In other words, you can reassign variables to different data types over the course of the program."
   ]
  },
  {
   "cell_type": "code",
   "execution_count": 2,
   "metadata": {},
   "outputs": [
    {
     "name": "stdout",
     "output_type": "stream",
     "text": [
      "42\n",
      "forty-two\n"
     ]
    }
   ],
   "source": [
    "# You can assign names and create variables with equal sign\n",
    "number = 42\n",
    "print(number)\n",
    "\n",
    "# As mention before, you can reassign variables to different data types\n",
    "number = \"forty-two\"\n",
    "print(number)\n"
   ]
  },
  {
   "attachments": {},
   "cell_type": "markdown",
   "metadata": {},
   "source": [
    "One disadvantage of **dynamically typed** languages is that they can be more prone to runtime errors. Because variable types can change throughout a program's execution, it can be easier to accidentally pass an incompatible type into a function or operation, resulting in errors that may be difficult to find and debug.\n",
    "\n",
    "In Python, the `type()`  function is used to determine the data type of a variable or an object. This can be useful when debugging or when you need to ensure that a value is of a certain data type before proceeding with further operations."
   ]
  },
  {
   "cell_type": "code",
   "execution_count": 4,
   "metadata": {},
   "outputs": [
    {
     "name": "stdout",
     "output_type": "stream",
     "text": [
      "<class 'str'>\n",
      "<class 'int'>\n",
      "<class 'float'>\n",
      "<class 'bool'>\n",
      "<class 'list'>\n"
     ]
    }
   ],
   "source": [
    "# For example, if you have a variable called my_var, you can use the type() \n",
    "# function to find out what data type it is:\n",
    "my_var = \"Hello, world!\"\n",
    "print(type(my_var))  # output: <class 'str'>\n",
    "\n",
    "\n",
    "# type() can also be used with other built-in data types like integers, floats, booleans, and lists:\n",
    "my_int = 42\n",
    "my_float = 3.14\n",
    "my_bool = True\n",
    "my_list = [1, 2, 3]\n",
    "\n",
    "print(type(my_int))    # output: <class 'int'>\n",
    "print(type(my_float))  # output: <class 'float'>\n",
    "print(type(my_bool))   # output: <class 'bool'>\n",
    "print(type(my_list))   # output: <class 'list'>\n"
   ]
  },
  {
   "attachments": {},
   "cell_type": "markdown",
   "metadata": {},
   "source": [
    "### Type Casting\n",
    "Type casting refers to the conversion of one data type into another. Here are some common examples of type casting in Python:\n",
    "- `int()` - converts a value to an integer data type\n",
    "- `float()` - converts a value to a floating-point data type\n",
    "- `str()` - converts a value to a string data type\n",
    "- `bool()` - converts a value to a boolean data type\n",
    "\n",
    "**Note**: Keep in mind that not all types can be converted to each other, and attempting to do so may result in errors. It's important to ensure that the data you're trying to convert is compatible and makes sense with the target data type before performing the conversion."
   ]
  },
  {
   "cell_type": "code",
   "execution_count": 1,
   "metadata": {},
   "outputs": [
    {
     "data": {
      "text/plain": [
       "int"
      ]
     },
     "execution_count": 1,
     "metadata": {},
     "output_type": "execute_result"
    }
   ],
   "source": [
    "# Example of type casting from a string to an integer\n",
    "num_str = \"10\"\n",
    "num_int = int(num_str)\n",
    "type(num_int)"
   ]
  }
 ],
 "metadata": {
  "kernelspec": {
   "display_name": "Python 3",
   "language": "python",
   "name": "python3"
  },
  "language_info": {
   "codemirror_mode": {
    "name": "ipython",
    "version": 3
   },
   "file_extension": ".py",
   "mimetype": "text/x-python",
   "name": "python",
   "nbconvert_exporter": "python",
   "pygments_lexer": "ipython3",
   "version": "3.11.1"
  },
  "orig_nbformat": 4
 },
 "nbformat": 4,
 "nbformat_minor": 2
}
