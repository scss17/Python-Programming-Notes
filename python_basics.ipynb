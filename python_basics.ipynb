{
 "cells": [
  {
   "attachments": {},
   "cell_type": "markdown",
   "metadata": {},
   "source": [
    "## Phyton Object and Data Structures Basics\n",
    "\n",
    "| **Name** | **Type** | **Description** |\n",
    "|:----:|:----:|:-----------|\n",
    "| Integers | int | Whole numbers: 3 |\n",
    "| Floating Point| float | Number with a decimal point: 2.3|\n",
    "| Strings | str | Ordered sequence of characters: \"hello\" |\n",
    "| Lits | list | Ordered sequence of objects: [10, \"hello\", 2.3] |\n",
    "| Dictionaries | dict | Unordered sequence of objects {\"mukey\":\"value\", \"name\": \"Frankie} |\n",
    "| Tuples | tup | Ordered immutale sequence of objects: (10, \"hello\", 20.3) |\n",
    "| Sets | set | Unorderes collection of unique objects {\"a\", \"b\"} |\n",
    "| Booleans | bool | Logical value indicating True or False |\n",
    "\n",
    "\n",
    "### Variable Assignment\n",
    "\n",
    "In Python, variables are used to store values or data. Variable assignment is the process of assigning a value to a variable. To assign a value to a variable, you start by specifying the variable name, followed by an equals sign `=` and then the value you want to assign to that variable. \n",
    "- Variable names can only contain letters, numbers, and underscores (_).\n",
    "- Variable names must start with a letter or an underscore.\n",
    "- Variable names cannot start with a number.\n",
    "- Variable names are case-sensitive, so my_variable and My_Variable would be considered different variables.\n",
    "- Variable names should be descriptive and meaningful. This makes your code easier to read and understand.\n",
    "- Avoid using reserved keywords as variable names (e.g. if, else, def).\n",
    "\n",
    "Python is a **dynamically type** language, which means that the data type of a variable is determined at runtime, rather than being explicitly defined in the code. In other words, you can reassign variables to different data types over the course of the program.\n",
    "\n",
    "### Numerical\n",
    "There are tow main number types we will work with in Python:\n",
    "- Integers which are whole numbers.\n",
    "- Floating Point Numbers which are numbers with a decimal.\n"
   ]
  }
 ],
 "metadata": {
  "kernelspec": {
   "display_name": "Python 3",
   "language": "python",
   "name": "python3"
  },
  "language_info": {
   "codemirror_mode": {
    "name": "ipython",
    "version": 3
   },
   "file_extension": ".py",
   "mimetype": "text/x-python",
   "name": "python",
   "nbconvert_exporter": "python",
   "pygments_lexer": "ipython3",
   "version": "3.11.1"
  },
  "orig_nbformat": 4
 },
 "nbformat": 4,
 "nbformat_minor": 2
}
