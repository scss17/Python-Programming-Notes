{
 "cells": [
  {
   "attachments": {},
   "cell_type": "markdown",
   "metadata": {},
   "source": [
    "## Phyton Object and Data Structures Basics\n",
    "\n",
    "| **Name** | **Type** | **Description** |\n",
    "|:----:|:----:|:-----------|\n",
    "| Integers | int | Whole numbers: 3 |\n",
    "| Floating Point| float | Number with a decimal point: 2.3|\n",
    "| Strings | str | Ordered sequence of characters: \"hello\" |\n",
    "| Lits | list | Ordered sequence of objects: [10, \"hello\", 2.3] |\n",
    "| Dictionaries | dict | Unordered sequence of objects {\"mukey\":\"value\", \"name\": \"Frankie} |\n",
    "| Tuples | tup | Ordered immutale sequence of objects: (10, \"hello\", 20.3) |\n",
    "| Sets | set | Unorderes collection of unique objects {\"a\", \"b\"} |\n",
    "| Booleans | bool | Logical value indicating True or False |\n",
    "\n",
    "### Numerical\n",
    "There are tow main number types we will work with in Python:\n",
    "- Integers which are whole numbers.\n",
    "- Floating Point Numbers which are numbers with a decimal.\n",
    "\n",
    "### Variable Assignment\n",
    "\n",
    "In Python, variables are used to store values or data. Variable assignment is the process of assigning a value to a variable. To assign a value to a variable, you start by specifying the variable name, followed by an equals sign `=` and then the value you want to assign to that variable. \n",
    "- Variable names can only contain letters, numbers, and underscores (_).\n",
    "- Variable names must start with a letter or an underscore.\n",
    "- Variable names cannot start with a number.\n",
    "- Variable names are case-sensitive, so my_variable and My_Variable would be considered different variables.\n",
    "- Variable names should be descriptive and meaningful. This makes your code easier to read and understand.\n",
    "- Avoid using reserved keywords as variable names (e.g. if, else, def).\n",
    "\n",
    "Python is a **dynamically type** language, which means that the data type of a variable is determined at runtime, rather than being explicitly defined in the code. In other words, you can reassign variables to different data types over the course of the program.\n"
   ]
  },
  {
   "cell_type": "code",
   "execution_count": 2,
   "metadata": {},
   "outputs": [
    {
     "name": "stdout",
     "output_type": "stream",
     "text": [
      "42\n",
      "forty-two\n"
     ]
    }
   ],
   "source": [
    "# You can assign names and create variables with equal sign\n",
    "number = 42\n",
    "print(number)\n",
    "\n",
    "# As mention before, you can reassign variables to different data types\n",
    "number = \"forty-two\"\n",
    "print(number)\n"
   ]
  },
  {
   "attachments": {},
   "cell_type": "markdown",
   "metadata": {},
   "source": [
    "One disadvantage of **dynamically typed** languages is that they can be more prone to runtime errors. Because variable types can change throughout a program's execution, it can be easier to accidentally pass an incompatible type into a function or operation, resulting in errors that may be difficult to find and debug.\n",
    "\n",
    "In Python, the `type()`  function is used to determine the data type of a variable or an object. This can be useful when debugging or when you need to ensure that a value is of a certain data type before proceeding with further operations."
   ]
  },
  {
   "cell_type": "code",
   "execution_count": 4,
   "metadata": {},
   "outputs": [
    {
     "name": "stdout",
     "output_type": "stream",
     "text": [
      "<class 'str'>\n",
      "<class 'int'>\n",
      "<class 'float'>\n",
      "<class 'bool'>\n",
      "<class 'list'>\n"
     ]
    }
   ],
   "source": [
    "# For example, if you have a variable called my_var, you can use the type() \n",
    "# function to find out what data type it is:\n",
    "my_var = \"Hello, world!\"\n",
    "print(type(my_var))  # output: <class 'str'>\n",
    "\n",
    "\n",
    "# type() can also be used with other built-in data types like integers, floats, booleans, and lists:\n",
    "my_int = 42\n",
    "my_float = 3.14\n",
    "my_bool = True\n",
    "my_list = [1, 2, 3]\n",
    "\n",
    "print(type(my_int))    # output: <class 'int'>\n",
    "print(type(my_float))  # output: <class 'float'>\n",
    "print(type(my_bool))   # output: <class 'bool'>\n",
    "print(type(my_list))   # output: <class 'list'>\n"
   ]
  },
  {
   "attachments": {},
   "cell_type": "markdown",
   "metadata": {},
   "source": [
    "### Strings\n",
    "Strings are sequeces of characters, using the syntax of either single quotes or double quotes. \n",
    "- Strings are **orderes sequences**, which means we can use **indexing** and **slicing** to grab sub-sections of the srtring.\n",
    "- String slicing is a feature in Python that allows you to extract a portion of a string (substring) from a given starting index to an ending index. The syntax for string slicing is as follows: `string[start:end:step]`\n",
    "\n",
    "    - **start**: the starting index of the substring (inclusive). If not specified, it defaults to 0.\n",
    "    - **end**: the ending index of the substring (exclusive). This parameter is optional and if not specified, it defaults to the legth of the string.\n",
    "    - **step**: the number of characters to skip between each character in the slice. This parameter is optional and if not specified, it defaults to 1.\n",
    "\n",
    "\n"
   ]
  },
  {
   "cell_type": "code",
   "execution_count": null,
   "metadata": {},
   "outputs": [],
   "source": []
  }
 ],
 "metadata": {
  "kernelspec": {
   "display_name": "Python 3",
   "language": "python",
   "name": "python3"
  },
  "language_info": {
   "codemirror_mode": {
    "name": "ipython",
    "version": 3
   },
   "file_extension": ".py",
   "mimetype": "text/x-python",
   "name": "python",
   "nbconvert_exporter": "python",
   "pygments_lexer": "ipython3",
   "version": "3.11.1"
  },
  "orig_nbformat": 4
 },
 "nbformat": 4,
 "nbformat_minor": 2
}
