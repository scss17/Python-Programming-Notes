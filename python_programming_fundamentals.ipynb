{
 "cells": [
  {
   "attachments": {},
   "cell_type": "markdown",
   "metadata": {},
   "source": [
    "### Comparison Operators   \n",
    "Comparison operators in Python are used to compare two values and they return a boolean value (True or False) based on whether the comparison is true or false. The following comparison operators are available in Python:\n",
    "\n",
    "In the table below, a=3 and b=4.\n",
    "\n",
    "<table class=\"table table-bordered\">\n",
    "<tr>\n",
    "<th style=\"width:10%\">Operator</th><th style=\"width:45%\">Description</th><th>Example</th>\n",
    "</tr>\n",
    "<tr>\n",
    "<td>==</td>\n",
    "<td>If the values of two operands are equal, then the condition becomes true.</td>\n",
    "<td> (a == b) is not true.</td>\n",
    "</tr>\n",
    "<tr>\n",
    "<td>!=</td>\n",
    "<td>If values of two operands are not equal, then condition becomes true.</td>\n",
    "<td>(a != b) is true</td>\n",
    "</tr>\n",
    "<tr>\n",
    "<td>&gt;</td>\n",
    "<td>If the value of left operand is greater than the value of right operand, then condition becomes true.</td>\n",
    "<td> (a &gt; b) is not true.</td>\n",
    "</tr>\n",
    "<tr>\n",
    "<td>&lt;</td>\n",
    "<td>If the value of left operand is less than the value of right operand, then condition becomes true.</td>\n",
    "<td> (a &lt; b) is true.</td>\n",
    "</tr>\n",
    "<tr>\n",
    "<td>&gt;=</td>\n",
    "<td>If the value of left operand is greater than or equal to the value of right operand, then condition becomes true.</td>\n",
    "<td> (a &gt;= b) is not true. </td>\n",
    "</tr>\n",
    "<tr>\n",
    "<td>&lt;=</td>\n",
    "<td>If the value of left operand is less than or equal to the value of right operand, then condition becomes true.</td>\n",
    "<td> (a &lt;= b) is true. </td>\n",
    "</tr>\n",
    "</table>"
   ]
  },
  {
   "cell_type": "code",
   "execution_count": null,
   "metadata": {},
   "outputs": [],
   "source": [
    "# Here's an example of how these operators work in Python:\n",
    "a = 10\n",
    "b = 5\n",
    "\n",
    "print(a == b)   # False\n",
    "print(a != b)   # True\n",
    "print(a > b)    # True\n",
    "print(a < b)    # False\n",
    "print(a >= b)   # True\n",
    "print(a <= b)   # False\n"
   ]
  },
  {
   "attachments": {},
   "cell_type": "markdown",
   "metadata": {},
   "source": [
    "### Logical Operators\n",
    "Logical operators are used to combine two or more conditions and create a more complex condition. The use of logical operators is often required when we have multiple comparison operations in one statement. Here are the three logical operators in Python:\n",
    "\n",
    "- `and`: Returns true if both the operands are true, otherwise returns false.\n",
    "- `or`: Returns true if either one of the operands is true, otherwise returns false.\n",
    "- `not`: Negates the value of the operand. If it is true, then it returns false, and vice versa.\n",
    "You can use these logical operators to create more complex conditions with comparison operators. "
   ]
  },
  {
   "cell_type": "code",
   "execution_count": null,
   "metadata": {},
   "outputs": [],
   "source": [
    "# Here's a example\n",
    "x = 5\n",
    "y = 10\n",
    "z = 15\n",
    "\n",
    "# using 'and' operator\n",
    "if x < y and x < z:\n",
    "    print(\"x is the smallest\")\n",
    "\n",
    "# using 'or' operator\n",
    "if x > y or x > z:\n",
    "    print(\"x is not the smallest\")\n",
    "\n",
    "# using 'not' operator\n",
    "if not (x >= y):\n",
    "    print(\"x is less than y\")\n"
   ]
  },
  {
   "attachments": {},
   "cell_type": "markdown",
   "metadata": {},
   "source": [
    "### Conditionals\n",
    "In programming, a condition is a statement that evaluates to either `True` or `False`. Conditions are used in various ways, such as in `if`, `elif`, and `while` statements.\n",
    "\n",
    "- `if` statements use conditions to determine whether to execute a block of code. If the condition is `True`, then the block of code is executed. Otherwise, the block of code is skipped.\n",
    "- `elif` statement is used when you want to check multiple conditions one after the other.\n",
    "- Similarly, `while` loops use conditions to determine whether to continue looping. The loop continues as long as the condition is `True`."
   ]
  },
  {
   "cell_type": "code",
   "execution_count": null,
   "metadata": {},
   "outputs": [],
   "source": [
    "# For example, here's how you can use if statement to print a message based on a condition:\n",
    "x = 10\n",
    "if x > 5:\n",
    "    print(\"x is greater than 5\")\n",
    "\n",
    "# You can have as many elif statements as you need. Here's an example:\n",
    "x = 10\n",
    "if x < 0:\n",
    "    print(\"x is negative\")\n",
    "elif x == 0:\n",
    "    print(\"x is zero\")\n",
    "elif x > 0 and x <= 10:\n",
    "    print(\"x is positive and less than or equal to 10\")\n",
    "else:\n",
    "    print(\"x is greater than 10\")\n",
    "\n",
    "\n",
    "# For example, consider the following while loop:\n",
    "x = 0\n",
    "while x < 5:\n",
    "    print(x)\n",
    "    x += 1"
   ]
  },
  {
   "attachments": {},
   "cell_type": "markdown",
   "metadata": {},
   "source": [
    "<hr/>\n",
    "It's worth noting that indentation is very important in Python because it determines how blocks of code are grouped together. In other programming languages, braces <code>{}</code> or begin/end keywords are used to group statements together. However, in Python indentation is used instead.\n",
    "\n",
    "Python uses whitespace indentation to form blocks of code that define a function, loop, if statement, class, or any other construct that requires a block. Code blocks are created after a colon `:` followed by the indented lines of code. The indentation needs to be consistent in each block of code.\n",
    "<hr/>"
   ]
  },
  {
   "attachments": {},
   "cell_type": "markdown",
   "metadata": {},
   "source": [
    "### While Loops\n",
    "As mention before, a while loop is a basic control flow statement in Python that iteratively runs a block of code as long as the specified condition is true\n",
    "\n",
    "The general format of a while loop is:\n",
    "\n",
    "    while test:\n",
    "        code statements\n",
    "    else:\n",
    "        final code statements\n",
    "\n",
    "- The `break` keyword can be used to exit a while loop prematurely.\n",
    "- The `continue` keyword is used to skip over the remaining statements in a loop iteration and jump straight to the next iteration\n",
    "- The `pass` keyword can be used as a placeholder when you don't want to do anything inside a loop or condition\n",
    "- Finally, the `else` keyword can be used with a while loop to specify a block of code that should execute when the loop terminates."
   ]
  },
  {
   "cell_type": "code",
   "execution_count": null,
   "metadata": {},
   "outputs": [],
   "source": [
    "# In this example, x is initially set to 0, and the while loop continues to iterate as long as x is less than 5.\n",
    "x = 0\n",
    "while True:\n",
    "    print(x)\n",
    "    x += 1\n",
    "    if x == 5:\n",
    "        break\n",
    "\n",
    "# In this code, the if statement tests to see if x is equal to 3. If so, the continue keyword is executed, skipping over \n",
    "# the print statement and jumping straight to the next iteration of the loop.\n",
    "x = 0\n",
    "while x < 5:\n",
    "    x += 1\n",
    "    if x == 3:\n",
    "        continue\n",
    "    print(x)\n",
    "\n",
    "# This code will simply iterate through the loop without doing anything. It can be useful as a placeholder when you're \n",
    "# developing code and haven't yet decided what to put inside a loop or condition.\n",
    "x = 0\n",
    "while x < 5:\n",
    "    pass\n",
    "\n",
    "# In this code, the else block will execute after the while loop terminates (when x is equal to 5). This can be useful\n",
    "# for running cleanup code or doing other tasks after a loop is finished\n",
    "x = 0\n",
    "while x < 5:\n",
    "    print(x)\n",
    "    x += 1\n",
    "else:\n",
    "    print(\"Loop terminated!\")\n"
   ]
  },
  {
   "attachments": {},
   "cell_type": "markdown",
   "metadata": {},
   "source": [
    "### For Loops\n",
    "\n",
    "A `for` loop acts as an iterator in Python; it goes through items that are in a *sequence* or any other iterable item (such as a list, tuple, string or dictionary) and execute a block of code for each element in the sequence. Objects that we've learned about that we can iterate over include strings, lists, tuples, and even built-in iterables for dictionaries, such as keys or values.\n",
    "\n",
    "We've already seen the `for` statement a little bit in past lectures but now let's formalize our understanding.\n",
    "\n",
    "Here's the general format for a `for` loop in Python:\n",
    "\n",
    "    for item in object:\n",
    "        statements to do stuff"
   ]
  },
  {
   "cell_type": "code",
   "execution_count": 3,
   "metadata": {},
   "outputs": [
    {
     "name": "stdout",
     "output_type": "stream",
     "text": [
      "apple\n",
      "banana\n",
      "cherry\n",
      "0\n",
      "1\n",
      "2\n",
      "3\n",
      "4\n",
      "I have 1 apple(s).\n",
      "I have 2 banana(s).\n",
      "I have 3 cherry(s).\n"
     ]
    }
   ],
   "source": [
    "# In this example, we have a list of fruits and we use a for loop to print out each fruit on a separate line. \n",
    "# The variable fruit is assigned to each element in the fruits list one at a time, and the indented block of \n",
    "# code is executed once for each element.\n",
    "fruits = [\"apple\", \"banana\", \"cherry\"]\n",
    "\n",
    "for fruit in fruits:\n",
    "    print(fruit)\n",
    "\n",
    "# You can also use the range() function with a for loop to execute a block of code a specified number of times. For example:\n",
    "for x in range(5):\n",
    "    print(x)\n",
    "\n",
    "# You can easily use a for loop to iterate over a dictionary and unpack its key-value pairs into separate variables. Here's an example:\n",
    "mydict = {\"apple\": 1, \"banana\": 2, \"cherry\": 3}\n",
    "\n",
    "for fruit, number in mydict.items():\n",
    "    print(f\"I have {number} {fruit}(s).\")\n",
    "\n",
    "\n"
   ]
  },
  {
   "attachments": {},
   "cell_type": "markdown",
   "metadata": {},
   "source": [
    "### List Comprehensions\n",
    "List comprehensions are a concise way of creating lists in Python. They allow you to create a new list by specifying a simple expression that operates on each element of an existing list, along with any number of optional conditions that filter the elements. You can think of it as essentially a one line `for` loop built inside of brackets."
   ]
  },
  {
   "cell_type": "code",
   "execution_count": 7,
   "metadata": {},
   "outputs": [
    {
     "name": "stdout",
     "output_type": "stream",
     "text": [
      "[1, 4, 9, 16, 25]\n",
      "[4, 16]\n",
      "[[0, 1, 2], [1, 2, 3], [2, 3, 4]]\n",
      "[[0, 2], [2], [2, 4]]\n"
     ]
    }
   ],
   "source": [
    "# Here's an example of a basic list comprehension:\n",
    "numbers = [1, 2, 3, 4, 5]\n",
    "squares = [x ** 2 for x in numbers]\n",
    "print(squares)\n",
    "\n",
    "# List comprehensions can also include optional conditions that filter the elements that are added to the new list\n",
    "numbers = [1, 2, 3, 4, 5]\n",
    "even_squares = [x ** 2 for x in numbers if x % 2 == 0]\n",
    "print(even_squares)\n",
    "\n",
    "# Nested list comprehensions allow you to create lists of lists, and apply expressions and conditions to multiple levels of nesting\n",
    "matrix = [[i + j for i in range(3)] for j in range(3)]\n",
    "print(matrix)\n",
    "\n",
    "# Nested list comprehensions can also include conditional statements as well. Here's an example of a nested list comprehension \n",
    "# that creates a 3x3 matrix with only even numbers\n",
    "matrix = [[i + j for i in range(3) if (i + j) % 2 == 0] for j in range(3)]\n",
    "print(matrix)\n",
    "\n"
   ]
  },
  {
   "attachments": {},
   "cell_type": "markdown",
   "metadata": {},
   "source": [
    "### Useful Operators\n",
    "There are a few built-in functions and \"operators\" in Python that don't fit well into any category. \n",
    "- `range()` is a built-in Python function that generates a sequence of numbers. The values generated by range() are not inclusive of the stop value. It takes one to three integer arguments: \n",
    "    - `start`, the starting value (default is 0)\n",
    "    - `stop`, the ending value\n",
    "    - `step`, the amount by which each value should be incremented (default is 1)"
   ]
  },
  {
   "cell_type": "code",
   "execution_count": 8,
   "metadata": {},
   "outputs": [
    {
     "name": "stdout",
     "output_type": "stream",
     "text": [
      "0\n",
      "1\n",
      "2\n",
      "3\n",
      "4\n",
      "2\n",
      "3\n",
      "4\n",
      "5\n",
      "6\n",
      "7\n",
      "1\n",
      "3\n",
      "5\n",
      "7\n",
      "9\n",
      "[0, 1, 2]\n"
     ]
    }
   ],
   "source": [
    "# Here are a few examples of how to use range():\n",
    "for i in range(5):\n",
    "    print(i)\n",
    "\n",
    "# In this example, the range function generates a sequence of numbers from 2 to 7 (inclusive)\n",
    "# because we passed in both start and stop arguments. \n",
    "for i in range(2, 8):\n",
    "    print(i)\n",
    "\n",
    "# In this example, the range function generates a sequence of odd numbers from 1 to 10 (inclusive) because we passed in all \n",
    "# three arguments: start = 1, stop = 11, step = 2.\n",
    "for i in range(1, 11, 2):\n",
    "    print(i)\n",
    "\n",
    "# You can also convert a range object to a list using the list()\n",
    "my_range = range(3) \n",
    "print(list(my_range)) # Output: [0, 1, 2]\n"
   ]
  },
  {
   "attachments": {},
   "cell_type": "markdown",
   "metadata": {},
   "source": [
    "- `enumerate()` is another useful built-in Python function. It allows you to iterate over a sequence (e.g., a list, tuple, or string) and keep track of the index position of each element at the same time."
   ]
  },
  {
   "cell_type": "code",
   "execution_count": 12,
   "metadata": {},
   "outputs": [
    {
     "name": "stdout",
     "output_type": "stream",
     "text": [
      "0 apple\n",
      "1 banana\n",
      "2 pear\n",
      "3 orange\n",
      "1 apple\n",
      "2 banana\n",
      "3 pear\n",
      "4 orange\n"
     ]
    }
   ],
   "source": [
    "# In this example, enumerate() produces tuples consisting of two values: the current index of the iteration, \n",
    "# and the corresponding value from my_list.\n",
    "my_list = [\"apple\", \"banana\", \"pear\", \"orange\"]\n",
    "for i, fruit in enumerate(my_list):\n",
    "    print(i, fruit)\n",
    "\n",
    "# You can also specify the starting index for the enumeration by passing it as a second argument to enumerate()\n",
    "my_list = [\"apple\", \"banana\", \"pear\", \"orange\"]\n",
    "for i, fruit in enumerate(my_list, start = 1):\n",
    "    print(i, fruit)\n"
   ]
  },
  {
   "attachments": {},
   "cell_type": "markdown",
   "metadata": {},
   "source": [
    "- `zip()` is another useful built-in Python function. It allows you to take two or more sequences (e.g., lists, tuples, or strings) and combine them into a single sequence of tuples, where each tuple contains one element from each of the input sequences at the corresponding position."
   ]
  },
  {
   "cell_type": "code",
   "execution_count": 14,
   "metadata": {},
   "outputs": [
    {
     "name": "stdout",
     "output_type": "stream",
     "text": [
      "apple 0.5\n",
      "banana 0.25\n",
      "pear 0.75\n",
      "apple red\n",
      "banana yellow\n"
     ]
    }
   ],
   "source": [
    "# Here's an example:\n",
    "fruits = [\"apple\", \"banana\", \"pear\"]\n",
    "prices = [0.5, 0.25, 0.75]\n",
    "\n",
    "for fruit, price in zip(fruits, prices):\n",
    "    print(fruit, price)\n",
    "\n",
    "# If the input sequences are different lengths, zip() will stop producing tuples as soon as one of the input \n",
    "# sequences is exhausted. For example:\n",
    "fruits = [\"apple\", \"banana\", \"pear\"]\n",
    "colors = [\"red\", \"yellow\"]\n",
    "\n",
    "for fruit, color in zip(fruits, colors):\n",
    "    print(fruit, color)\n"
   ]
  }
 ],
 "metadata": {
  "kernelspec": {
   "display_name": "Python 3",
   "language": "python",
   "name": "python3"
  },
  "language_info": {
   "codemirror_mode": {
    "name": "ipython",
    "version": 3
   },
   "file_extension": ".py",
   "mimetype": "text/x-python",
   "name": "python",
   "nbconvert_exporter": "python",
   "pygments_lexer": "ipython3",
   "version": "3.11.1"
  },
  "orig_nbformat": 4
 },
 "nbformat": 4,
 "nbformat_minor": 2
}
