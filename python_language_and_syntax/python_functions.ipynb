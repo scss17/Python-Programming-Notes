{
 "cells": [
  {
   "attachments": {},
   "cell_type": "markdown",
   "metadata": {},
   "source": [
    "### Functions and Methods\n",
    "Functions and methods are two important concepts in programming, so it's understandable that they might seem confusing at first. Here's a brief explanation:\n",
    "- A `function` is a block of code that performs a specific task. In Python, you define a function using the def keyword followed by the function name, input parameters (if any), and the code to be executed when the function is called. Functions can be called from anywhere in your program as long as they are in scope.\n",
    "- A `method` is a function that is associated with an object. In other words, a method is a function that \"belongs\" to a specific object and can only be called on that object. For example, if you have a string object in Python, you can use the `.upper()` method to convert all the characters in the string to uppercase. This method only works on strings because it is specific to the string data type.\n",
    "\n",
    "The main difference between functions and methods is that functions are standalone pieces of code that can be called from anywhere in your program, while methods are associated with specific objects and can only be called on those objects."
   ]
  },
  {
   "cell_type": "code",
   "execution_count": 1,
   "metadata": {},
   "outputs": [
    {
     "name": "stdout",
     "output_type": "stream",
     "text": [
      "15\n",
      "HELLO WORLD\n"
     ]
    }
   ],
   "source": [
    "# Here's an example to help illustrate the difference:\n",
    "# Example of a function\n",
    "def add_numbers(x, y):\n",
    "    result = x + y\n",
    "    return result\n",
    "\n",
    "# Calling the function\n",
    "sum = add_numbers(5, 10)\n",
    "print(sum)   # Output: 15\n",
    "\n",
    "# Example of a method\n",
    "my_string = \"hello world\"\n",
    "uppercase_string = my_string.upper()\n",
    "print(uppercase_string)   # Output: \"HELLO WORLD\"\n"
   ]
  },
  {
   "attachments": {},
   "cell_type": "markdown",
   "metadata": {},
   "source": [
    "### Functions\n",
    "A function is a reusable block of code which performs operations specified in the function. They let you break down tasks and allow you to reuse your code in different programs.\n",
    "\n",
    "There are two types of functions :\n",
    "\n",
    "- **Pre-defined functions**\n",
    "- **User defined functions**\n",
    "\n",
    "You can define functions to provide the required functionality. Here are simple rules to define a function in Python:\n",
    "\n",
    "- Functions blocks begin `def` followed by the function `name`and parentheses `()`.\n",
    "- There are input parameters or arguments that should be placed within these parentheses.\n",
    "- You can also define parameters inside these parentheses.\n",
    "- There is a body within every function that starts with a colon (`:`) and is indented.\n",
    "- You can also place documentation before the body.\n",
    "- The statement `return` exits a function, optionally passing back a value.\n",
    "\n",
    "#### Why even use functions?\n",
    "\n",
    "Put simply, you should use functions when you plan on using a block of code multiple times. The function will allow you to call the same block of code without having to write it multiple times. This in turn will allow you to create more complex Python scripts. To really understand this though, we should actually write our own functions! "
   ]
  },
  {
   "cell_type": "code",
   "execution_count": null,
   "metadata": {},
   "outputs": [],
   "source": [
    "# The syntax of a fucntion is as follows\n",
    "def name_of_function(arg1, arg2):\n",
    "    \n",
    "    '''\n",
    "    This is where the function's Document String (docstring) goes.\n",
    "    When you call help() on your function it will be printed out.\n",
    "    '''\n",
    "    \n",
    "    # Do stuff here\n",
    "    # Return desired result"
   ]
  },
  {
   "cell_type": "code",
   "execution_count": 2,
   "metadata": {},
   "outputs": [
    {
     "name": "stdout",
     "output_type": "stream",
     "text": [
      "The variable a is: 1, if you add 1 you get 2\n"
     ]
    },
    {
     "data": {
      "text/plain": [
       "2"
      ]
     },
     "execution_count": 2,
     "metadata": {},
     "output_type": "execute_result"
    }
   ],
   "source": [
    "# An example of a function that adds on to the parameter a prints and returns the output as b:\n",
    "def add(a):\n",
    "    \"\"\"\n",
    "    This simple function adds 1 to a variable a\n",
    "    \"\"\"\n",
    "    \n",
    "    b = a + 1\n",
    "    print(f\"The variable a is: {a}, if you add 1 you get {b}\")\n",
    "    return(b)\n",
    "\n",
    "add(1)"
   ]
  },
  {
   "attachments": {},
   "cell_type": "markdown",
   "metadata": {},
   "source": [
    "### Return\n",
    "The `return` keyword is used to specify the value that a function should return when it is called. When we call a function in Python, it executes all the statements within that function and may or may not provide an output. If you want your function to produce some output, you can use the return statement at the end of the function body."
   ]
  },
  {
   "cell_type": "code",
   "execution_count": 3,
   "metadata": {},
   "outputs": [
    {
     "data": {
      "text/plain": [
       "10"
      ]
     },
     "execution_count": 3,
     "metadata": {},
     "output_type": "execute_result"
    }
   ],
   "source": [
    "# In this example, we define a function calculate_sum() which takes two input parameters a and b.\n",
    "def calculate_sum(a, b):\n",
    "    \"\"\"\n",
    "    This function takes two input parameters a and b. It then calculates their sum and stores the result in a variable called sum.  \n",
    "    \"\"\"\n",
    "    sum = a + b\n",
    "    return(sum)\n",
    "\n",
    "calculate_sum(5, 5)"
   ]
  },
  {
   "attachments": {},
   "cell_type": "markdown",
   "metadata": {},
   "source": [
    "### Return vs Print\n",
    "Both the `print()` and `return()` statements are used inside a function but they serve different purposes.\n",
    "\n",
    "- The  `print()` statement is used to display output on the console or command prompt. When you call print() inside a function, it displays the value of the specified expression on the screen. However, after calling the function, the value cannot be accessed outside of the function. \n",
    "- On the other hand, the `return()` statement is used to send a value back to the caller of the function. When you call a function that contains a return statement, the program stops execution of the function and sends the specified value back to the code that called the function. This means that you can store the returned value in a variable and use it elsewhere in the program."
   ]
  },
  {
   "cell_type": "code",
   "execution_count": 5,
   "metadata": {},
   "outputs": [
    {
     "name": "stdout",
     "output_type": "stream",
     "text": [
      "Hello Jhon\n"
     ]
    }
   ],
   "source": [
    "# Inside the function, we use the print() statement to display a greeting message which includes the \n",
    "# value of the name argument passed to the function.\n",
    "def say_hello(name):\n",
    "    print(\"Hello \" + name)\n",
    "\n",
    "say_hello(\"John\") # Output: Hello John"
   ]
  },
  {
   "attachments": {},
   "cell_type": "markdown",
   "metadata": {},
   "source": [
    "### Default Values\n",
    "You can assign default values to function parameters in Python by providing a value for the parameter in the function signature. This means that if the calling code doesn't provide a value for the parameter, the default value will be used."
   ]
  },
  {
   "cell_type": "code",
   "execution_count": 7,
   "metadata": {},
   "outputs": [
    {
     "name": "stdout",
     "output_type": "stream",
     "text": [
      "Hello John Doe\n",
      "Hello Alice\n"
     ]
    }
   ],
   "source": [
    "# Here's an example:\n",
    "def say_hello(name = \"John Doe\"):\n",
    "    print(\"Hello \" + name)\n",
    "    \n",
    "say_hello() # Output: Hello, John Doe\n",
    "say_hello(\"Alice\") # Output: Hello, Alice"
   ]
  },
  {
   "attachments": {},
   "cell_type": "markdown",
   "metadata": {},
   "source": [
    "### Examples"
   ]
  },
  {
   "cell_type": "code",
   "execution_count": 40,
   "metadata": {},
   "outputs": [
    {
     "data": {
      "text/plain": [
       "[False, True, False, True, False, True]"
      ]
     },
     "execution_count": 40,
     "metadata": {},
     "output_type": "execute_result"
    }
   ],
   "source": [
    "# Create a fucntion that cheeks if a number is even inside a list\n",
    "def is_even(num_list):\n",
    "    \n",
    "    \"\"\"\n",
    "    This function takes a list of numbers as an argument and returns a boolean list indicating \n",
    "    if each number in the original list is even or not.\n",
    "    \"\"\"\n",
    "    \n",
    "    # Check if the input parameter is a list\n",
    "    is_list = type(num_list) == list\n",
    "    \n",
    "    # If the input parameter is indeed a list, create a new list containing whether each number in the \n",
    "    # original list is even or not and return it\n",
    "    if(is_list):\n",
    "        bool_list = []\n",
    "        \n",
    "        for number in num_list:\n",
    "            value = number % 2 == 0\n",
    "            bool_list.append(value)\n",
    "\n",
    "        return(bool_list)\n",
    "    \n",
    "    # If the input parameter is not a list, print an error message and return nothing\n",
    "    else:\n",
    "        print(\"The object is not a list\\nPlease supply a list!\")\n",
    "    \n",
    "# Run the function\n",
    "is_even([1,2,3,4,5,6])\n"
   ]
  },
  {
   "cell_type": "code",
   "execution_count": 49,
   "metadata": {},
   "outputs": [
    {
     "data": {
      "text/plain": [
       "[(1, False),\n",
       " (2, True),\n",
       " (3, False),\n",
       " (4, True),\n",
       " (5, False),\n",
       " (6, True),\n",
       " (7, False),\n",
       " (8, True),\n",
       " (9, False)]"
      ]
     },
     "execution_count": 49,
     "metadata": {},
     "output_type": "execute_result"
    }
   ],
   "source": [
    "def is_even_tuple(num_list):\n",
    "    is_list = type(num_list) == list\n",
    "\n",
    "    if(is_list):\n",
    "        bool_list = []\n",
    "        for number in num_list:\n",
    "            value = number % 2 == 0\n",
    "            bool_list.append(value)\n",
    "        \n",
    "        return([(num, val) for num, val in zip(num_list, bool_list)])\n",
    "        \n",
    "    else:\n",
    "        print(f\"The object is not a list, it is actually {type(num_list)}\")\n",
    "        print(\"Please supply a list\")\n",
    "\n",
    "is_even_tuple([1,2,3,4,5,6,7,8,9])"
   ]
  },
  {
   "cell_type": "code",
   "execution_count": 50,
   "metadata": {},
   "outputs": [
    {
     "data": {
      "text/plain": [
       "[(1, False),\n",
       " (2, True),\n",
       " (3, False),\n",
       " (4, True),\n",
       " (5, False),\n",
       " (6, True),\n",
       " (7, False),\n",
       " (8, True),\n",
       " (9, False)]"
      ]
     },
     "execution_count": 50,
     "metadata": {},
     "output_type": "execute_result"
    }
   ],
   "source": [
    "# A better version of the code above via chatGPT LOL\n",
    "def check_even(num_list):\n",
    "    return [(num, num % 2 == 0) for num in num_list]\n",
    "\n",
    "check_even([1,2,3,4,5,6,7,8,9])"
   ]
  },
  {
   "attachments": {},
   "cell_type": "markdown",
   "metadata": {},
   "source": [
    "### Global Variables\n",
    "Global variables in Python are variables that can be accessed from anywhere in the code, including inside functions. When a variable is defined outside of all functions and classes, it becomes a global variable. Global variables can be useful when you want to keep track of a value that needs to be used across multiple functions or classes. However, using too many global variables can make the code difficult to read and maintain. It's usually best to limit the use of global variables and instead pass values as arguments to functions.\n",
    "\n",
    "In simple terms, the idea of scope can be described by 3 general rules:\n",
    "\n",
    "1. Name assignments will create or change local names by default.\n",
    "2. Name references search (at most) four scopes, these are:\n",
    "    * local\n",
    "    * enclosing functions\n",
    "    * global\n",
    "    * built-in\n",
    "3. Names declared in global and nonlocal statements map assigned names to enclose module and function scopes.\n",
    "\n",
    "\n",
    "The statement in #2 above can be defined by the LEGB rule.\n",
    "\n",
    "#### LEGB Rule:\n",
    "\n",
    "- **L: Local** — Names assigned in any way within a function (def or lambda), and not declared global in that function.\n",
    "- **E: Enclosing function locals** — Names in the local scope of any and all enclosing functions (def or lambda), from inner to outer.\n",
    "- **G: Global (module)** — Names assigned at the top-level of a module file, or declared global in a def within the file.\n",
    "- **B: Built-in (Python)** — Names preassigned in the built-in names module : open, range, SyntaxError,..."
   ]
  },
  {
   "cell_type": "code",
   "execution_count": 1,
   "metadata": {},
   "outputs": [
    {
     "name": "stdout",
     "output_type": "stream",
     "text": [
      "Inside the function, x = 10\n",
      "Inside the function, y = 5\n",
      "Outside the function, x = 10\n"
     ]
    }
   ],
   "source": [
    "# In this example, we have a global variable x that has been assigned the value 10. Inside the function my_func(),\n",
    "# we have defined a local variable y with the value 5.\n",
    "x = 10    # This is a global variable\n",
    "\n",
    "def my_func():\n",
    "    y = 5    # This is a local variable\n",
    "    print(\"Inside the function, x =\", x)    # Accessing the global variable 'x'\n",
    "    print(\"Inside the function, y =\", y)    # Accessing the local variable 'y'\n",
    "\n",
    "my_func()\n",
    "\n",
    "print(\"Outside the function, x =\", x)   # Accessing the global variable 'x'"
   ]
  },
  {
   "attachments": {},
   "cell_type": "markdown",
   "metadata": {},
   "source": [
    "### Function Interaction\n",
    "Functions can interact with each other in many ways. Below are some common ways functions can interact with one another:\n",
    "\n",
    "- **Function calling**: A function can call another function to perform a specific task. \n",
    "- **Passing arguments**: One function can pass arguments to another function to use them or modify their values.\n",
    "- **Function returning**: A function can return a value that can be used by another function."
   ]
  },
  {
   "cell_type": "code",
   "execution_count": 15,
   "metadata": {},
   "outputs": [
    {
     "name": "stdout",
     "output_type": "stream",
     "text": [
      "(7, 12)\n"
     ]
    }
   ],
   "source": [
    "# In the next example, calculate_sum_and_product() calls two other functions calculate_sum() and \n",
    "# calculate_product() to perform their respective tasks.\n",
    "def calculate_sum(a, b):\n",
    "    return a + b\n",
    "\n",
    "def calculate_product(a, b):\n",
    "    return a * b\n",
    "\n",
    "def calculate_sum_and_product(a, b):\n",
    "    summation = calculate_sum(a, b)\n",
    "    product = calculate_product(a, b)\n",
    "    return summation, product\n",
    "\n",
    "result = calculate_sum_and_product(3, 4)\n",
    "print(result)  # Output: (7, 12)"
   ]
  },
  {
   "cell_type": "code",
   "execution_count": 12,
   "metadata": {},
   "outputs": [
    {
     "name": "stdout",
     "output_type": "stream",
     "text": [
      "[1, 2, 3, 5]\n"
     ]
    }
   ],
   "source": [
    "# In the next example, we pass a list my_list as an argument to the modify_list() function, which modifies \n",
    "# the list by adding the integer value 5 to it. After calling the function, we print the modified list.\n",
    "\n",
    "def modify_list(my_list):\n",
    "    my_list.append(5)\n",
    "\n",
    "my_list = [1, 2, 3]\n",
    "modify_list(my_list)\n",
    "print(my_list)  # Output: [1, 2, 3, 5]"
   ]
  },
  {
   "cell_type": "code",
   "execution_count": 14,
   "metadata": {},
   "outputs": [
    {
     "name": "stdout",
     "output_type": "stream",
     "text": [
      "(16, 64)\n"
     ]
    }
   ],
   "source": [
    "# In the next example, we have three functions square_number(), cube_number(), and get_square_and_cube(). \n",
    "# The first two functions calculate the square and cube of a number respectively. The third function get_square_and_cube() \n",
    "# calls these two functions and returns a tuple of their results.\n",
    "def square_number(x):\n",
    "    return x ** 2\n",
    "\n",
    "def cube_number(x):\n",
    "    return x ** 3\n",
    "\n",
    "def get_square_and_cube(x):\n",
    "    square = square_number(x)\n",
    "    cube = cube_number(x)\n",
    "    return square, cube\n",
    "\n",
    "result = get_square_and_cube(4)\n",
    "print(result) # Output: (16, 64)\n"
   ]
  },
  {
   "cell_type": "code",
   "execution_count": 8,
   "metadata": {},
   "outputs": [],
   "source": [
    "# Practical example\n",
    "from random import shuffle\n",
    "def shuffle_list(my_list):\n",
    "    shuffle(my_list)\n",
    "    return my_list\n",
    "\n",
    "def player_guess():\n",
    "    guess = ''\n",
    "\n",
    "    while guess not in ['0', '1', '2']:\n",
    "        guess = input(\"Pick a number: 0, 1, or 2\")\n",
    "    return int(guess)\n",
    "\n",
    "def check_guess(my_list, guess):\n",
    "    if my_list[guess] == 'O':\n",
    "        print(\"Correct!\")\n",
    "        print(my_list)\n",
    "    \n",
    "    else:\n",
    "        print(\"wrong guess!\")\n",
    "        print(my_list)"
   ]
  },
  {
   "cell_type": "code",
   "execution_count": 11,
   "metadata": {},
   "outputs": [
    {
     "name": "stdout",
     "output_type": "stream",
     "text": [
      "Correct!\n",
      "[' ', ' ', 'O']\n"
     ]
    }
   ],
   "source": [
    "# Using the fucntions\n",
    "# Initial list\n",
    "my_list = [' ', ' ', 'O']\n",
    "\n",
    "# Shuffle list\n",
    "mixedup_list = shuffle_list(my_list)\n",
    "\n",
    "# User guess\n",
    "user_guess = player_guess()\n",
    "\n",
    "# Check guess\n",
    "check_guess(mixedup_list, user_guess)"
   ]
  },
  {
   "attachments": {},
   "cell_type": "markdown",
   "metadata": {},
   "source": [
    "### `*args` and `**kwargs`\n",
    "In Python, *args and **kwargs are special syntaxes used for passing a variable number of arguments to a function.\n",
    "- `*args` is used to pass a variable-length non-keyworded argument list to a function.\n",
    "- `**kwargs` is used to pass a variable-length keyworded argument list to a function. \n",
    "- Both `*args` and `**kwargs` can also be used together in a single function definition. In that case, the order should be `*args` first followed by `**kwargs`."
   ]
  },
  {
   "cell_type": "code",
   "execution_count": 24,
   "metadata": {},
   "outputs": [
    {
     "name": "stdout",
     "output_type": "stream",
     "text": [
      "1\n",
      "2\n",
      "3\n",
      "5\n",
      "name = Alice\n",
      "age = 25\n",
      "city = New York\n",
      "My fruit of choice is apple\n",
      "123nameAliceage25\n"
     ]
    }
   ],
   "source": [
    "# In this example, the print_arguments() function accepts any number of positional arguments and prints them one by one.\n",
    "def print_arguments(*args):\n",
    "    for arg in args:\n",
    "        print(arg)\n",
    "\n",
    "print_arguments(1,2,3,5)\n",
    "\n",
    "# In this example, the print_keyword_arguments() function accepts any number of keyword arguments \n",
    "# and prints their key-value pairs.\n",
    "def print_keyword_arguments(**kwards):\n",
    "    for key, value in kwards.items():\n",
    "        print(f\"{key} = {value}\")\n",
    "\n",
    "print_keyword_arguments(name=\"Alice\", age=25, city=\"New York\") \n",
    "\n",
    "# Another example\n",
    "def my_func(**kwargs):\n",
    "    if 'fruit' in kwargs:\n",
    "        print(\"My fruit of choice is {}\".format(kwargs['fruit']))\n",
    "    \n",
    "    else:\n",
    "        print('I did not find any fruit here')\n",
    "        \n",
    "my_func(fruit = 'apple', veggie = 'lettuce')\n",
    "\n",
    "# In this example, the combine_arguments() function accepts both variable-length non-keyworded arguments (*args) \n",
    "# and variable-length keyworded arguments (**kwargs) and combines all of them into a single string.\n",
    "def combine_arguments(*args, **kwargs):\n",
    "    result = \"\"\n",
    "    for arg in args:\n",
    "        result += str(arg)\n",
    "    \n",
    "    for key, value in kwargs.items():\n",
    "        result += f\"{key}{value}\"\n",
    "\n",
    "    return result \n",
    "print(combine_arguments(1, 2, 3, name = \"Alice\", age = 25))"
   ]
  },
  {
   "attachments": {},
   "cell_type": "markdown",
   "metadata": {},
   "source": [
    "### `map()` Function\n",
    "\n",
    "The `map()` function is a built-in Python function that applies a specified function to each item of an iterable (e.g. a list, tuple, set) and returns a map object which can be converted into a list, tuple or set. The syntax for the map() function is as follows:\n",
    "\n",
    "    map(function, iterable)\n",
    "    \n",
    "You pass in two arguments to the function:    \n",
    "- A function that you want to apply on each element of the iterable.\n",
    "- An iterable i.e. list, tuple, set etc."
   ]
  },
  {
   "cell_type": "code",
   "execution_count": 25,
   "metadata": {},
   "outputs": [
    {
     "name": "stdout",
     "output_type": "stream",
     "text": [
      "[1, 4, 9, 16, 25]\n"
     ]
    }
   ],
   "source": [
    "# Create a funntion\n",
    "def square(x):\n",
    "    return x ** 2\n",
    "\n",
    "# Create a list \n",
    "my_list = [1, 2, 3, 4, 5]\n",
    "\n",
    "# Apply map\n",
    "squared_list = list(map(square, my_list))\n",
    "print(squared_list)"
   ]
  },
  {
   "cell_type": "code",
   "execution_count": 26,
   "metadata": {},
   "outputs": [
    {
     "data": {
      "text/plain": [
       "['even', 'C', 'S', 'K', 'even']"
      ]
     },
     "execution_count": 26,
     "metadata": {},
     "output_type": "execute_result"
    }
   ],
   "source": [
    "# Create a function\n",
    "def splicer(mystring):\n",
    "    if len(mystring) % 2 == 0:\n",
    "        return 'even'\n",
    "    else:\n",
    "        return mystring[0]\n",
    "    \n",
    "# Create a list\n",
    "mynames = ['John','Cindy','Sarah','Kelly','Mike']\n",
    "\n",
    "# Apply map\n",
    "list(map(splicer,mynames))"
   ]
  },
  {
   "attachments": {},
   "cell_type": "markdown",
   "metadata": {},
   "source": [
    "### `filter()` Function\n",
    "The filter() function is a built-in Python function that returns a new iterator containing only the elements from an iterable (e.g. a list, tuple, set) for which a specified condition or function returns True. The syntax for the filter() function is as follows:\n",
    "\n",
    "    filter(function, iterable)\n",
    "    \n",
    "You pass in two arguments to the function:\n",
    "    \n",
    "- A function that takes a single argument and returns a Boolean value (True or False) indicating whether the element should be included in the resulting iterator.\n",
    "- An iterable i.e. list, tuple, set etc."
   ]
  },
  {
   "cell_type": "code",
   "execution_count": 27,
   "metadata": {},
   "outputs": [
    {
     "name": "stdout",
     "output_type": "stream",
     "text": [
      "[2, 4, 6, 8]\n"
     ]
    }
   ],
   "source": [
    "# Create a function\n",
    "def is_even(x):\n",
    "    return x % 2 == 0\n",
    "\n",
    "# Create a list\n",
    "my_list = [1, 2, 3, 4, 5, 6, 7, 8]\n",
    "\n",
    "# Apply filter\n",
    "filtered_list = list(filter(is_even, my_list))\n",
    "print(filtered_list) "
   ]
  },
  {
   "attachments": {},
   "cell_type": "markdown",
   "metadata": {},
   "source": [
    "### Lambda Expressions\n",
    "\n",
    "A `lambda` expression (or lambda function) is a way to create anonymous functions in Python. Anonymous means that these functions don't require you to explicitly define them using the `def` keyword. Instead, you can define them \"inline\", as part of your code, wherever you need them.\n",
    "\n",
    "Lambda expressions are useful for several reasons:\n",
    "\n",
    "- They allow you to define simple, one-line functions without cluttering up your code with lots of extra lines.\n",
    "- They can make your code more concise and easier to read.\n",
    "- They can be used as arguments to other functions that take functions as input, such as map(), filter()"
   ]
  },
  {
   "cell_type": "code",
   "execution_count": 28,
   "metadata": {},
   "outputs": [
    {
     "name": "stdout",
     "output_type": "stream",
     "text": [
      "[1, 4, 9, 16, 25]\n",
      "[2, 4, 6, 8]\n"
     ]
    }
   ],
   "source": [
    "# Map function  example\n",
    "my_list = [1, 2, 3, 4, 5]\n",
    "squared_list = list(map(lambda x: x**2, my_list))\n",
    "print(squared_list) # Output: [1, 4, 9, 16, 25]\n",
    "\n",
    "# Flter function example\n",
    "my_list = [1, 2, 3, 4, 5, 6, 7, 8]\n",
    "filtered_list = list(filter(lambda x: x % 2 == 0, my_list))\n",
    "print(filtered_list) # Output: [2, 4, 6, 8]"
   ]
  }
 ],
 "metadata": {
  "kernelspec": {
   "display_name": "Python 3",
   "language": "python",
   "name": "python3"
  },
  "language_info": {
   "codemirror_mode": {
    "name": "ipython",
    "version": 3
   },
   "file_extension": ".py",
   "mimetype": "text/x-python",
   "name": "python",
   "nbconvert_exporter": "python",
   "pygments_lexer": "ipython3",
   "version": "3.11.1"
  },
  "orig_nbformat": 4
 },
 "nbformat": 4,
 "nbformat_minor": 2
}
